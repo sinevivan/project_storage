{
 "cells": [
  {
   "cell_type": "markdown",
   "metadata": {},
   "source": [
    "## Описание проекта\n",
    "\n",
    "### Бизнес задача\n",
    "Проанализировать базу данных сервис для чтения книг по подписке. В ней информация о книгах, издательствах, авторах, а также пользовательские обзоры книг. \n",
    "Эти данные помогут сформулировать ценностное предложение для нового продукта.\n",
    "\n",
    "### Описание данных\n",
    "Таблица books. Содержит данные о книгах:\n",
    "* book_id — идентификатор книги;\n",
    "* author_id — идентификатор автора;\n",
    "* title — название книги;\n",
    "* num_pages — количество страниц;\n",
    "* publication_date — дата публикации книги;\n",
    "* publisher_id — идентификатор издателя.\n",
    "Таблица authors. Содержит данные об авторах:\n",
    "* author_id — идентификатор автора;\n",
    "* author — имя автора.\n",
    "Таблица publishers. Содержит данные об издательствах:\n",
    "* publisher_id — идентификатор издательства;\n",
    "* publisher — название издательства;\n",
    "Таблица ratings. Содержит данные о пользовательских оценках книг:\n",
    "* rating_id — идентификатор оценки;\n",
    "* book_id — идентификатор книги;\n",
    "* username — имя пользователя, оставившего оценку;\n",
    "* rating — оценка книги.\n",
    "Таблица reviews. Содержит данные о пользовательских обзорах на книги:\n",
    "* review_id — идентификатор обзора;\n",
    "* book_id — идентификатор книги;\n",
    "* username — имя пользователя, написавшего обзор;\n",
    "* text — текст обзора.\n",
    "### Задание\n",
    "* Посчитать, сколько книг вышло после 1 января 2000 года;\n",
    "* Для каждой книги посчитать количество обзоров и среднюю оценку;\n",
    "* Определить издательство, которое выпустило наибольшее число книг толще 50 страниц;\n",
    "* Определить автора с самой высокой средней оценкой книг — учитывайте только книги с 50 и более оценками;\n",
    "* Посчитайть среднее количество обзоров от пользователей, которые поставили больше 50 оценок."
   ]
  },
  {
   "cell_type": "markdown",
   "metadata": {},
   "source": [
    "## Подготовка к выполнению заданий"
   ]
  },
  {
   "cell_type": "markdown",
   "metadata": {},
   "source": [
    "### Подготовка рабочей среды и функций"
   ]
  },
  {
   "cell_type": "code",
   "execution_count": 1,
   "metadata": {},
   "outputs": [],
   "source": [
    "import pandas as pd\n",
    "from sqlalchemy import create_engine\n",
    "import re\n",
    "import warnings\n",
    "warnings.filterwarnings('ignore')"
   ]
  },
  {
   "cell_type": "code",
   "execution_count": 2,
   "metadata": {},
   "outputs": [],
   "source": [
    "# устанавливаем параметры\n",
    "\n",
    "db_config = {'user': 'praktikum_student', # имя пользователя\n",
    "'pwd': 'Sdf4$2;d-d30pp', # пароль\n",
    "'host': 'rc1b-wcoijxj3yxfsf3fs.mdb.yandexcloud.net',\n",
    "'port': 6432, # порт подключения\n",
    "'db': 'data-analyst-final-project-db'} # название базы данных\n",
    "\n",
    "connection_string = 'postgresql://{}:{}@{}:{}/{}'.format(db_config['user'],\n",
    " db_config['pwd'],\n",
    " db_config['host'],\n",
    " db_config['port'],\n",
    " db_config['db'])\n",
    "\n",
    "# сохраняем коннектор\n",
    "engine = create_engine(connection_string, connect_args={'sslmode':'require'}) "
   ]
  },
  {
   "cell_type": "markdown",
   "metadata": {},
   "source": [
    "Создадим функцию для вывода результата "
   ]
  },
  {
   "cell_type": "code",
   "execution_count": 3,
   "metadata": {},
   "outputs": [],
   "source": [
    "def select(sql):\n",
    "    return pd.read_sql(sql,con = engine)"
   ]
  },
  {
   "cell_type": "markdown",
   "metadata": {},
   "source": [
    "Добавим функцию для вывода основной информации о будущих таблицах"
   ]
  },
  {
   "cell_type": "code",
   "execution_count": 4,
   "metadata": {},
   "outputs": [],
   "source": [
    "def total_info_data(data):\n",
    "    ''' Данная функция предобработки делает следующие вещи:\n",
    "        1) Проверяет названия столбцов, приводит их к стилю pep8\n",
    "        2) Удаляет явные дубликаты\n",
    "        3) Выводит информацию методом info()\n",
    "        4) Выводит информацию методом describe()\n",
    "        5) Выводит информацию о пропусках \n",
    "        6) Приводит столбцы с датой к правильному типу'''\n",
    "       \n",
    "    \n",
    "    col = []\n",
    "    for i in data.columns:\n",
    "        if bool(re.search('([A-Z])', i))==True:\n",
    "            col.append(i.replace(f'{list(re.findall(\"[A-Z]+\",i))[0]}',f'_{list(re.findall(\"[A-Z]+\",i))[0].lower()}'))\n",
    "        else:\n",
    "            col.append(i)\n",
    "    \n",
    "    for j in range(len(col)):\n",
    "        if col[j][0]=='_':\n",
    "            col[j]=col[j].replace(f'{col[j]}',f'{col[j][1:]}')\n",
    "            \n",
    "    data.columns = col\n",
    "    del col\n",
    "    \n",
    "    for i in data.columns:\n",
    "        if 'dt' in i or 'date' in i:\n",
    "            data[i] = pd.to_datetime(data[i], yearfirst=True)\n",
    "    # Приводим колонки к нижнему регистру и заменяем\n",
    "    # пробелы на _ для приведения к корректному стилю написания\n",
    "    data.columns = data.columns.str.lower().str.replace(' ', '_').str.replace('.','_')\n",
    "    dup_sum = data.duplicated().sum()\n",
    "    # Удаляем явные дубликаты\n",
    "    data = data.drop_duplicates().reset_index(drop=True) \n",
    "    # Выводим 30 случайных строк датафрейма\n",
    "    random_str = display(data.sample(frac=0.25).head(10))\n",
    "    # Получаем общую информацию о датасете\n",
    "    info = data.info()\n",
    "    # Получаем информарцию о пропусках\n",
    "    nan = data.isna().sum()\n",
    "    # Получаем полное описание датафрейма\n",
    "    describe = display(data.describe(include = 'all'))  # Получаем полное описание датафрейма\n",
    "\n",
    "    return random_str, info, describe, nan"
   ]
  },
  {
   "cell_type": "markdown",
   "metadata": {},
   "source": [
    "### Получение основных таблиц"
   ]
  },
  {
   "cell_type": "markdown",
   "metadata": {},
   "source": [
    "Выведем данные из таблиц \"books\", \"authors\", \"publishers\", \"ratings\" и \"reviews\""
   ]
  },
  {
   "cell_type": "markdown",
   "metadata": {},
   "source": [
    "###### Посмотрим данные из таблицы books"
   ]
  },
  {
   "cell_type": "code",
   "execution_count": 5,
   "metadata": {},
   "outputs": [],
   "source": [
    "books = '''\n",
    "SELECT * FROM books\n",
    "'''"
   ]
  },
  {
   "cell_type": "code",
   "execution_count": 6,
   "metadata": {
    "scrolled": false
   },
   "outputs": [
    {
     "data": {
      "text/html": [
       "<div>\n",
       "<style scoped>\n",
       "    .dataframe tbody tr th:only-of-type {\n",
       "        vertical-align: middle;\n",
       "    }\n",
       "\n",
       "    .dataframe tbody tr th {\n",
       "        vertical-align: top;\n",
       "    }\n",
       "\n",
       "    .dataframe thead th {\n",
       "        text-align: right;\n",
       "    }\n",
       "</style>\n",
       "<table border=\"1\" class=\"dataframe\">\n",
       "  <thead>\n",
       "    <tr style=\"text-align: right;\">\n",
       "      <th></th>\n",
       "      <th>book_id</th>\n",
       "      <th>author_id</th>\n",
       "      <th>title</th>\n",
       "      <th>num_pages</th>\n",
       "      <th>publication_date</th>\n",
       "      <th>publisher_id</th>\n",
       "    </tr>\n",
       "  </thead>\n",
       "  <tbody>\n",
       "    <tr>\n",
       "      <th>477</th>\n",
       "      <td>478</td>\n",
       "      <td>291</td>\n",
       "      <td>Nineteen Minutes</td>\n",
       "      <td>440</td>\n",
       "      <td>2007-03-05</td>\n",
       "      <td>27</td>\n",
       "    </tr>\n",
       "    <tr>\n",
       "      <th>204</th>\n",
       "      <td>205</td>\n",
       "      <td>255</td>\n",
       "      <td>Dubliners</td>\n",
       "      <td>207</td>\n",
       "      <td>2001-03-15</td>\n",
       "      <td>203</td>\n",
       "    </tr>\n",
       "    <tr>\n",
       "      <th>132</th>\n",
       "      <td>133</td>\n",
       "      <td>536</td>\n",
       "      <td>Can You Keep a Secret?</td>\n",
       "      <td>374</td>\n",
       "      <td>2005-12-27</td>\n",
       "      <td>82</td>\n",
       "    </tr>\n",
       "    <tr>\n",
       "      <th>295</th>\n",
       "      <td>296</td>\n",
       "      <td>271</td>\n",
       "      <td>Hard Eight (Stephanie Plum  #8)</td>\n",
       "      <td>326</td>\n",
       "      <td>2003-06-16</td>\n",
       "      <td>284</td>\n",
       "    </tr>\n",
       "    <tr>\n",
       "      <th>871</th>\n",
       "      <td>872</td>\n",
       "      <td>277</td>\n",
       "      <td>The Social Contract</td>\n",
       "      <td>168</td>\n",
       "      <td>2006-05-30</td>\n",
       "      <td>210</td>\n",
       "    </tr>\n",
       "    <tr>\n",
       "      <th>923</th>\n",
       "      <td>924</td>\n",
       "      <td>178</td>\n",
       "      <td>This Present Darkness (Darkness  #1)</td>\n",
       "      <td>376</td>\n",
       "      <td>2003-06-26</td>\n",
       "      <td>67</td>\n",
       "    </tr>\n",
       "    <tr>\n",
       "      <th>935</th>\n",
       "      <td>936</td>\n",
       "      <td>507</td>\n",
       "      <td>Treasure Island</td>\n",
       "      <td>311</td>\n",
       "      <td>2001-09-15</td>\n",
       "      <td>166</td>\n",
       "    </tr>\n",
       "    <tr>\n",
       "      <th>158</th>\n",
       "      <td>159</td>\n",
       "      <td>207</td>\n",
       "      <td>Confessions of an Ugly Stepsister</td>\n",
       "      <td>372</td>\n",
       "      <td>2000-10-03</td>\n",
       "      <td>333</td>\n",
       "    </tr>\n",
       "    <tr>\n",
       "      <th>729</th>\n",
       "      <td>730</td>\n",
       "      <td>69</td>\n",
       "      <td>The Four Loves</td>\n",
       "      <td>170</td>\n",
       "      <td>2002-06-05</td>\n",
       "      <td>136</td>\n",
       "    </tr>\n",
       "    <tr>\n",
       "      <th>811</th>\n",
       "      <td>812</td>\n",
       "      <td>591</td>\n",
       "      <td>The Novice (Black Magician Trilogy  #2)</td>\n",
       "      <td>577</td>\n",
       "      <td>2004-07-01</td>\n",
       "      <td>198</td>\n",
       "    </tr>\n",
       "  </tbody>\n",
       "</table>\n",
       "</div>"
      ],
      "text/plain": [
       "     book_id  author_id                                    title  num_pages  \\\n",
       "477      478        291                         Nineteen Minutes        440   \n",
       "204      205        255                                Dubliners        207   \n",
       "132      133        536                   Can You Keep a Secret?        374   \n",
       "295      296        271          Hard Eight (Stephanie Plum  #8)        326   \n",
       "871      872        277                      The Social Contract        168   \n",
       "923      924        178     This Present Darkness (Darkness  #1)        376   \n",
       "935      936        507                          Treasure Island        311   \n",
       "158      159        207        Confessions of an Ugly Stepsister        372   \n",
       "729      730         69                           The Four Loves        170   \n",
       "811      812        591  The Novice (Black Magician Trilogy  #2)        577   \n",
       "\n",
       "    publication_date  publisher_id  \n",
       "477       2007-03-05            27  \n",
       "204       2001-03-15           203  \n",
       "132       2005-12-27            82  \n",
       "295       2003-06-16           284  \n",
       "871       2006-05-30           210  \n",
       "923       2003-06-26            67  \n",
       "935       2001-09-15           166  \n",
       "158       2000-10-03           333  \n",
       "729       2002-06-05           136  \n",
       "811       2004-07-01           198  "
      ]
     },
     "metadata": {},
     "output_type": "display_data"
    },
    {
     "name": "stdout",
     "output_type": "stream",
     "text": [
      "<class 'pandas.core.frame.DataFrame'>\n",
      "RangeIndex: 1000 entries, 0 to 999\n",
      "Data columns (total 6 columns):\n",
      " #   Column            Non-Null Count  Dtype         \n",
      "---  ------            --------------  -----         \n",
      " 0   book_id           1000 non-null   int64         \n",
      " 1   author_id         1000 non-null   int64         \n",
      " 2   title             1000 non-null   object        \n",
      " 3   num_pages         1000 non-null   int64         \n",
      " 4   publication_date  1000 non-null   datetime64[ns]\n",
      " 5   publisher_id      1000 non-null   int64         \n",
      "dtypes: datetime64[ns](1), int64(4), object(1)\n",
      "memory usage: 47.0+ KB\n"
     ]
    },
    {
     "data": {
      "text/html": [
       "<div>\n",
       "<style scoped>\n",
       "    .dataframe tbody tr th:only-of-type {\n",
       "        vertical-align: middle;\n",
       "    }\n",
       "\n",
       "    .dataframe tbody tr th {\n",
       "        vertical-align: top;\n",
       "    }\n",
       "\n",
       "    .dataframe thead th {\n",
       "        text-align: right;\n",
       "    }\n",
       "</style>\n",
       "<table border=\"1\" class=\"dataframe\">\n",
       "  <thead>\n",
       "    <tr style=\"text-align: right;\">\n",
       "      <th></th>\n",
       "      <th>book_id</th>\n",
       "      <th>author_id</th>\n",
       "      <th>title</th>\n",
       "      <th>num_pages</th>\n",
       "      <th>publication_date</th>\n",
       "      <th>publisher_id</th>\n",
       "    </tr>\n",
       "  </thead>\n",
       "  <tbody>\n",
       "    <tr>\n",
       "      <th>count</th>\n",
       "      <td>1000.000000</td>\n",
       "      <td>1000.000000</td>\n",
       "      <td>1000</td>\n",
       "      <td>1000.00000</td>\n",
       "      <td>1000</td>\n",
       "      <td>1000.000000</td>\n",
       "    </tr>\n",
       "    <tr>\n",
       "      <th>unique</th>\n",
       "      <td>NaN</td>\n",
       "      <td>NaN</td>\n",
       "      <td>999</td>\n",
       "      <td>NaN</td>\n",
       "      <td>618</td>\n",
       "      <td>NaN</td>\n",
       "    </tr>\n",
       "    <tr>\n",
       "      <th>top</th>\n",
       "      <td>NaN</td>\n",
       "      <td>NaN</td>\n",
       "      <td>Memoirs of a Geisha</td>\n",
       "      <td>NaN</td>\n",
       "      <td>2006-08-29 00:00:00</td>\n",
       "      <td>NaN</td>\n",
       "    </tr>\n",
       "    <tr>\n",
       "      <th>freq</th>\n",
       "      <td>NaN</td>\n",
       "      <td>NaN</td>\n",
       "      <td>2</td>\n",
       "      <td>NaN</td>\n",
       "      <td>10</td>\n",
       "      <td>NaN</td>\n",
       "    </tr>\n",
       "    <tr>\n",
       "      <th>first</th>\n",
       "      <td>NaN</td>\n",
       "      <td>NaN</td>\n",
       "      <td>NaN</td>\n",
       "      <td>NaN</td>\n",
       "      <td>1952-12-01 00:00:00</td>\n",
       "      <td>NaN</td>\n",
       "    </tr>\n",
       "    <tr>\n",
       "      <th>last</th>\n",
       "      <td>NaN</td>\n",
       "      <td>NaN</td>\n",
       "      <td>NaN</td>\n",
       "      <td>NaN</td>\n",
       "      <td>2020-03-31 00:00:00</td>\n",
       "      <td>NaN</td>\n",
       "    </tr>\n",
       "    <tr>\n",
       "      <th>mean</th>\n",
       "      <td>500.500000</td>\n",
       "      <td>320.417000</td>\n",
       "      <td>NaN</td>\n",
       "      <td>389.11100</td>\n",
       "      <td>NaN</td>\n",
       "      <td>171.270000</td>\n",
       "    </tr>\n",
       "    <tr>\n",
       "      <th>std</th>\n",
       "      <td>288.819436</td>\n",
       "      <td>181.620172</td>\n",
       "      <td>NaN</td>\n",
       "      <td>229.39014</td>\n",
       "      <td>NaN</td>\n",
       "      <td>99.082685</td>\n",
       "    </tr>\n",
       "    <tr>\n",
       "      <th>min</th>\n",
       "      <td>1.000000</td>\n",
       "      <td>1.000000</td>\n",
       "      <td>NaN</td>\n",
       "      <td>14.00000</td>\n",
       "      <td>NaN</td>\n",
       "      <td>1.000000</td>\n",
       "    </tr>\n",
       "    <tr>\n",
       "      <th>25%</th>\n",
       "      <td>250.750000</td>\n",
       "      <td>162.750000</td>\n",
       "      <td>NaN</td>\n",
       "      <td>249.00000</td>\n",
       "      <td>NaN</td>\n",
       "      <td>83.000000</td>\n",
       "    </tr>\n",
       "    <tr>\n",
       "      <th>50%</th>\n",
       "      <td>500.500000</td>\n",
       "      <td>316.500000</td>\n",
       "      <td>NaN</td>\n",
       "      <td>352.00000</td>\n",
       "      <td>NaN</td>\n",
       "      <td>177.500000</td>\n",
       "    </tr>\n",
       "    <tr>\n",
       "      <th>75%</th>\n",
       "      <td>750.250000</td>\n",
       "      <td>481.000000</td>\n",
       "      <td>NaN</td>\n",
       "      <td>453.00000</td>\n",
       "      <td>NaN</td>\n",
       "      <td>258.000000</td>\n",
       "    </tr>\n",
       "    <tr>\n",
       "      <th>max</th>\n",
       "      <td>1000.000000</td>\n",
       "      <td>636.000000</td>\n",
       "      <td>NaN</td>\n",
       "      <td>2690.00000</td>\n",
       "      <td>NaN</td>\n",
       "      <td>340.000000</td>\n",
       "    </tr>\n",
       "  </tbody>\n",
       "</table>\n",
       "</div>"
      ],
      "text/plain": [
       "            book_id    author_id                title   num_pages  \\\n",
       "count   1000.000000  1000.000000                 1000  1000.00000   \n",
       "unique          NaN          NaN                  999         NaN   \n",
       "top             NaN          NaN  Memoirs of a Geisha         NaN   \n",
       "freq            NaN          NaN                    2         NaN   \n",
       "first           NaN          NaN                  NaN         NaN   \n",
       "last            NaN          NaN                  NaN         NaN   \n",
       "mean     500.500000   320.417000                  NaN   389.11100   \n",
       "std      288.819436   181.620172                  NaN   229.39014   \n",
       "min        1.000000     1.000000                  NaN    14.00000   \n",
       "25%      250.750000   162.750000                  NaN   249.00000   \n",
       "50%      500.500000   316.500000                  NaN   352.00000   \n",
       "75%      750.250000   481.000000                  NaN   453.00000   \n",
       "max     1000.000000   636.000000                  NaN  2690.00000   \n",
       "\n",
       "           publication_date  publisher_id  \n",
       "count                  1000   1000.000000  \n",
       "unique                  618           NaN  \n",
       "top     2006-08-29 00:00:00           NaN  \n",
       "freq                     10           NaN  \n",
       "first   1952-12-01 00:00:00           NaN  \n",
       "last    2020-03-31 00:00:00           NaN  \n",
       "mean                    NaN    171.270000  \n",
       "std                     NaN     99.082685  \n",
       "min                     NaN      1.000000  \n",
       "25%                     NaN     83.000000  \n",
       "50%                     NaN    177.500000  \n",
       "75%                     NaN    258.000000  \n",
       "max                     NaN    340.000000  "
      ]
     },
     "metadata": {},
     "output_type": "display_data"
    },
    {
     "data": {
      "text/plain": [
       "(None,\n",
       " None,\n",
       " None,\n",
       " book_id             0\n",
       " author_id           0\n",
       " title               0\n",
       " num_pages           0\n",
       " publication_date    0\n",
       " publisher_id        0\n",
       " dtype: int64)"
      ]
     },
     "execution_count": 6,
     "metadata": {},
     "output_type": "execute_result"
    }
   ],
   "source": [
    "total_info_data(select(books))"
   ]
  },
  {
   "cell_type": "markdown",
   "metadata": {},
   "source": [
    "* В таблице books 1000 строк и 6 столбцов\n",
    "* Отсутствуют пропуски и дубликаты\n",
    "* Информация о книгах в нашей базе с 1952 года по 2020\n",
    "* 999 книг уникальных\n",
    "* 75% книг ограничиваются 453 страницами, есть аномально большие книги на 2690 страниц"
   ]
  },
  {
   "cell_type": "markdown",
   "metadata": {},
   "source": [
    "###### Посмотрим данные из таблицы authors"
   ]
  },
  {
   "cell_type": "code",
   "execution_count": 7,
   "metadata": {},
   "outputs": [],
   "source": [
    "authors = '''\n",
    "SELECT * FROM authors\n",
    "'''"
   ]
  },
  {
   "cell_type": "code",
   "execution_count": 8,
   "metadata": {
    "scrolled": false
   },
   "outputs": [
    {
     "data": {
      "text/html": [
       "<div>\n",
       "<style scoped>\n",
       "    .dataframe tbody tr th:only-of-type {\n",
       "        vertical-align: middle;\n",
       "    }\n",
       "\n",
       "    .dataframe tbody tr th {\n",
       "        vertical-align: top;\n",
       "    }\n",
       "\n",
       "    .dataframe thead th {\n",
       "        text-align: right;\n",
       "    }\n",
       "</style>\n",
       "<table border=\"1\" class=\"dataframe\">\n",
       "  <thead>\n",
       "    <tr style=\"text-align: right;\">\n",
       "      <th></th>\n",
       "      <th>author_id</th>\n",
       "      <th>author</th>\n",
       "    </tr>\n",
       "  </thead>\n",
       "  <tbody>\n",
       "    <tr>\n",
       "      <th>409</th>\n",
       "      <td>410</td>\n",
       "      <td>Megan Whalen Turner</td>\n",
       "    </tr>\n",
       "    <tr>\n",
       "      <th>290</th>\n",
       "      <td>291</td>\n",
       "      <td>Jodi Picoult</td>\n",
       "    </tr>\n",
       "    <tr>\n",
       "      <th>589</th>\n",
       "      <td>590</td>\n",
       "      <td>Tracy Kidder</td>\n",
       "    </tr>\n",
       "    <tr>\n",
       "      <th>477</th>\n",
       "      <td>478</td>\n",
       "      <td>Philip K. Dick/David Alabort/Manuel Espín</td>\n",
       "    </tr>\n",
       "    <tr>\n",
       "      <th>172</th>\n",
       "      <td>173</td>\n",
       "      <td>Evelyn Waugh</td>\n",
       "    </tr>\n",
       "    <tr>\n",
       "      <th>193</th>\n",
       "      <td>194</td>\n",
       "      <td>George Eliot/A.S. Byatt</td>\n",
       "    </tr>\n",
       "    <tr>\n",
       "      <th>314</th>\n",
       "      <td>315</td>\n",
       "      <td>Jon Stone/Michael J. Smollin</td>\n",
       "    </tr>\n",
       "    <tr>\n",
       "      <th>588</th>\n",
       "      <td>589</td>\n",
       "      <td>Toni Morrison</td>\n",
       "    </tr>\n",
       "    <tr>\n",
       "      <th>496</th>\n",
       "      <td>497</td>\n",
       "      <td>Richard Wright</td>\n",
       "    </tr>\n",
       "    <tr>\n",
       "      <th>523</th>\n",
       "      <td>524</td>\n",
       "      <td>Salman Rushdie</td>\n",
       "    </tr>\n",
       "  </tbody>\n",
       "</table>\n",
       "</div>"
      ],
      "text/plain": [
       "     author_id                                     author\n",
       "409        410                        Megan Whalen Turner\n",
       "290        291                               Jodi Picoult\n",
       "589        590                               Tracy Kidder\n",
       "477        478  Philip K. Dick/David Alabort/Manuel Espín\n",
       "172        173                               Evelyn Waugh\n",
       "193        194                    George Eliot/A.S. Byatt\n",
       "314        315               Jon Stone/Michael J. Smollin\n",
       "588        589                              Toni Morrison\n",
       "496        497                             Richard Wright\n",
       "523        524                             Salman Rushdie"
      ]
     },
     "metadata": {},
     "output_type": "display_data"
    },
    {
     "name": "stdout",
     "output_type": "stream",
     "text": [
      "<class 'pandas.core.frame.DataFrame'>\n",
      "RangeIndex: 636 entries, 0 to 635\n",
      "Data columns (total 2 columns):\n",
      " #   Column     Non-Null Count  Dtype \n",
      "---  ------     --------------  ----- \n",
      " 0   author_id  636 non-null    int64 \n",
      " 1   author     636 non-null    object\n",
      "dtypes: int64(1), object(1)\n",
      "memory usage: 10.1+ KB\n"
     ]
    },
    {
     "data": {
      "text/html": [
       "<div>\n",
       "<style scoped>\n",
       "    .dataframe tbody tr th:only-of-type {\n",
       "        vertical-align: middle;\n",
       "    }\n",
       "\n",
       "    .dataframe tbody tr th {\n",
       "        vertical-align: top;\n",
       "    }\n",
       "\n",
       "    .dataframe thead th {\n",
       "        text-align: right;\n",
       "    }\n",
       "</style>\n",
       "<table border=\"1\" class=\"dataframe\">\n",
       "  <thead>\n",
       "    <tr style=\"text-align: right;\">\n",
       "      <th></th>\n",
       "      <th>author_id</th>\n",
       "      <th>author</th>\n",
       "    </tr>\n",
       "  </thead>\n",
       "  <tbody>\n",
       "    <tr>\n",
       "      <th>count</th>\n",
       "      <td>636.000000</td>\n",
       "      <td>636</td>\n",
       "    </tr>\n",
       "    <tr>\n",
       "      <th>unique</th>\n",
       "      <td>NaN</td>\n",
       "      <td>636</td>\n",
       "    </tr>\n",
       "    <tr>\n",
       "      <th>top</th>\n",
       "      <td>NaN</td>\n",
       "      <td>Rachel Cohn/David Levithan</td>\n",
       "    </tr>\n",
       "    <tr>\n",
       "      <th>freq</th>\n",
       "      <td>NaN</td>\n",
       "      <td>1</td>\n",
       "    </tr>\n",
       "    <tr>\n",
       "      <th>mean</th>\n",
       "      <td>318.500000</td>\n",
       "      <td>NaN</td>\n",
       "    </tr>\n",
       "    <tr>\n",
       "      <th>std</th>\n",
       "      <td>183.741666</td>\n",
       "      <td>NaN</td>\n",
       "    </tr>\n",
       "    <tr>\n",
       "      <th>min</th>\n",
       "      <td>1.000000</td>\n",
       "      <td>NaN</td>\n",
       "    </tr>\n",
       "    <tr>\n",
       "      <th>25%</th>\n",
       "      <td>159.750000</td>\n",
       "      <td>NaN</td>\n",
       "    </tr>\n",
       "    <tr>\n",
       "      <th>50%</th>\n",
       "      <td>318.500000</td>\n",
       "      <td>NaN</td>\n",
       "    </tr>\n",
       "    <tr>\n",
       "      <th>75%</th>\n",
       "      <td>477.250000</td>\n",
       "      <td>NaN</td>\n",
       "    </tr>\n",
       "    <tr>\n",
       "      <th>max</th>\n",
       "      <td>636.000000</td>\n",
       "      <td>NaN</td>\n",
       "    </tr>\n",
       "  </tbody>\n",
       "</table>\n",
       "</div>"
      ],
      "text/plain": [
       "         author_id                      author\n",
       "count   636.000000                         636\n",
       "unique         NaN                         636\n",
       "top            NaN  Rachel Cohn/David Levithan\n",
       "freq           NaN                           1\n",
       "mean    318.500000                         NaN\n",
       "std     183.741666                         NaN\n",
       "min       1.000000                         NaN\n",
       "25%     159.750000                         NaN\n",
       "50%     318.500000                         NaN\n",
       "75%     477.250000                         NaN\n",
       "max     636.000000                         NaN"
      ]
     },
     "metadata": {},
     "output_type": "display_data"
    },
    {
     "data": {
      "text/plain": [
       "(None,\n",
       " None,\n",
       " None,\n",
       " author_id    0\n",
       " author       0\n",
       " dtype: int64)"
      ]
     },
     "execution_count": 8,
     "metadata": {},
     "output_type": "execute_result"
    }
   ],
   "source": [
    "total_info_data(select(authors))"
   ]
  },
  {
   "cell_type": "markdown",
   "metadata": {},
   "source": [
    "* В таблице authors 636 строк и 2 столбца \n",
    "* Отсутствуют пропуски и дубликаты"
   ]
  },
  {
   "cell_type": "markdown",
   "metadata": {},
   "source": [
    "###### Посмотрим данные из таблицы publishers"
   ]
  },
  {
   "cell_type": "code",
   "execution_count": 9,
   "metadata": {},
   "outputs": [],
   "source": [
    "publishers = '''\n",
    "SELECT * FROM publishers\n",
    "'''"
   ]
  },
  {
   "cell_type": "code",
   "execution_count": 10,
   "metadata": {
    "scrolled": false
   },
   "outputs": [
    {
     "data": {
      "text/html": [
       "<div>\n",
       "<style scoped>\n",
       "    .dataframe tbody tr th:only-of-type {\n",
       "        vertical-align: middle;\n",
       "    }\n",
       "\n",
       "    .dataframe tbody tr th {\n",
       "        vertical-align: top;\n",
       "    }\n",
       "\n",
       "    .dataframe thead th {\n",
       "        text-align: right;\n",
       "    }\n",
       "</style>\n",
       "<table border=\"1\" class=\"dataframe\">\n",
       "  <thead>\n",
       "    <tr style=\"text-align: right;\">\n",
       "      <th></th>\n",
       "      <th>publisher_id</th>\n",
       "      <th>publisher</th>\n",
       "    </tr>\n",
       "  </thead>\n",
       "  <tbody>\n",
       "    <tr>\n",
       "      <th>279</th>\n",
       "      <td>280</td>\n",
       "      <td>Spectra Books</td>\n",
       "    </tr>\n",
       "    <tr>\n",
       "      <th>148</th>\n",
       "      <td>149</td>\n",
       "      <td>Harvest Books</td>\n",
       "    </tr>\n",
       "    <tr>\n",
       "      <th>129</th>\n",
       "      <td>130</td>\n",
       "      <td>Harper Perennial Modern Classics</td>\n",
       "    </tr>\n",
       "    <tr>\n",
       "      <th>238</th>\n",
       "      <td>239</td>\n",
       "      <td>Random House Audio Publishing Group</td>\n",
       "    </tr>\n",
       "    <tr>\n",
       "      <th>76</th>\n",
       "      <td>77</td>\n",
       "      <td>Del Rey Books</td>\n",
       "    </tr>\n",
       "    <tr>\n",
       "      <th>16</th>\n",
       "      <td>17</td>\n",
       "      <td>Anchor Books/Knopf Doubleday Publishing Group</td>\n",
       "    </tr>\n",
       "    <tr>\n",
       "      <th>18</th>\n",
       "      <td>19</td>\n",
       "      <td>Applewood Books</td>\n",
       "    </tr>\n",
       "    <tr>\n",
       "      <th>315</th>\n",
       "      <td>316</td>\n",
       "      <td>Virago</td>\n",
       "    </tr>\n",
       "    <tr>\n",
       "      <th>167</th>\n",
       "      <td>168</td>\n",
       "      <td>Knopf Books for Young Readers</td>\n",
       "    </tr>\n",
       "    <tr>\n",
       "      <th>246</th>\n",
       "      <td>247</td>\n",
       "      <td>Riverhead Books</td>\n",
       "    </tr>\n",
       "  </tbody>\n",
       "</table>\n",
       "</div>"
      ],
      "text/plain": [
       "     publisher_id                                      publisher\n",
       "279           280                                  Spectra Books\n",
       "148           149                                  Harvest Books\n",
       "129           130               Harper Perennial Modern Classics\n",
       "238           239            Random House Audio Publishing Group\n",
       "76             77                                  Del Rey Books\n",
       "16             17  Anchor Books/Knopf Doubleday Publishing Group\n",
       "18             19                                Applewood Books\n",
       "315           316                                         Virago\n",
       "167           168                  Knopf Books for Young Readers\n",
       "246           247                                Riverhead Books"
      ]
     },
     "metadata": {},
     "output_type": "display_data"
    },
    {
     "name": "stdout",
     "output_type": "stream",
     "text": [
      "<class 'pandas.core.frame.DataFrame'>\n",
      "RangeIndex: 340 entries, 0 to 339\n",
      "Data columns (total 2 columns):\n",
      " #   Column        Non-Null Count  Dtype \n",
      "---  ------        --------------  ----- \n",
      " 0   publisher_id  340 non-null    int64 \n",
      " 1   publisher     340 non-null    object\n",
      "dtypes: int64(1), object(1)\n",
      "memory usage: 5.4+ KB\n"
     ]
    },
    {
     "data": {
      "text/html": [
       "<div>\n",
       "<style scoped>\n",
       "    .dataframe tbody tr th:only-of-type {\n",
       "        vertical-align: middle;\n",
       "    }\n",
       "\n",
       "    .dataframe tbody tr th {\n",
       "        vertical-align: top;\n",
       "    }\n",
       "\n",
       "    .dataframe thead th {\n",
       "        text-align: right;\n",
       "    }\n",
       "</style>\n",
       "<table border=\"1\" class=\"dataframe\">\n",
       "  <thead>\n",
       "    <tr style=\"text-align: right;\">\n",
       "      <th></th>\n",
       "      <th>publisher_id</th>\n",
       "      <th>publisher</th>\n",
       "    </tr>\n",
       "  </thead>\n",
       "  <tbody>\n",
       "    <tr>\n",
       "      <th>count</th>\n",
       "      <td>340.000000</td>\n",
       "      <td>340</td>\n",
       "    </tr>\n",
       "    <tr>\n",
       "      <th>unique</th>\n",
       "      <td>NaN</td>\n",
       "      <td>340</td>\n",
       "    </tr>\n",
       "    <tr>\n",
       "      <th>top</th>\n",
       "      <td>NaN</td>\n",
       "      <td>Bantam Doubleday Dell (NYC)</td>\n",
       "    </tr>\n",
       "    <tr>\n",
       "      <th>freq</th>\n",
       "      <td>NaN</td>\n",
       "      <td>1</td>\n",
       "    </tr>\n",
       "    <tr>\n",
       "      <th>mean</th>\n",
       "      <td>170.500000</td>\n",
       "      <td>NaN</td>\n",
       "    </tr>\n",
       "    <tr>\n",
       "      <th>std</th>\n",
       "      <td>98.293777</td>\n",
       "      <td>NaN</td>\n",
       "    </tr>\n",
       "    <tr>\n",
       "      <th>min</th>\n",
       "      <td>1.000000</td>\n",
       "      <td>NaN</td>\n",
       "    </tr>\n",
       "    <tr>\n",
       "      <th>25%</th>\n",
       "      <td>85.750000</td>\n",
       "      <td>NaN</td>\n",
       "    </tr>\n",
       "    <tr>\n",
       "      <th>50%</th>\n",
       "      <td>170.500000</td>\n",
       "      <td>NaN</td>\n",
       "    </tr>\n",
       "    <tr>\n",
       "      <th>75%</th>\n",
       "      <td>255.250000</td>\n",
       "      <td>NaN</td>\n",
       "    </tr>\n",
       "    <tr>\n",
       "      <th>max</th>\n",
       "      <td>340.000000</td>\n",
       "      <td>NaN</td>\n",
       "    </tr>\n",
       "  </tbody>\n",
       "</table>\n",
       "</div>"
      ],
      "text/plain": [
       "        publisher_id                    publisher\n",
       "count     340.000000                          340\n",
       "unique           NaN                          340\n",
       "top              NaN  Bantam Doubleday Dell (NYC)\n",
       "freq             NaN                            1\n",
       "mean      170.500000                          NaN\n",
       "std        98.293777                          NaN\n",
       "min         1.000000                          NaN\n",
       "25%        85.750000                          NaN\n",
       "50%       170.500000                          NaN\n",
       "75%       255.250000                          NaN\n",
       "max       340.000000                          NaN"
      ]
     },
     "metadata": {},
     "output_type": "display_data"
    },
    {
     "data": {
      "text/plain": [
       "(None,\n",
       " None,\n",
       " None,\n",
       " publisher_id    0\n",
       " publisher       0\n",
       " dtype: int64)"
      ]
     },
     "execution_count": 10,
     "metadata": {},
     "output_type": "execute_result"
    }
   ],
   "source": [
    "total_info_data(select(publishers))"
   ]
  },
  {
   "cell_type": "markdown",
   "metadata": {},
   "source": [
    "* В таблице publishers 340 строк и 2 столбца\n",
    "* Отсутствуют пропуски и дубликаты"
   ]
  },
  {
   "cell_type": "markdown",
   "metadata": {},
   "source": [
    "###### Посмотрим данные из таблицы ratings"
   ]
  },
  {
   "cell_type": "code",
   "execution_count": 11,
   "metadata": {},
   "outputs": [],
   "source": [
    "ratings = '''\n",
    "SELECT * FROM ratings\n",
    "'''"
   ]
  },
  {
   "cell_type": "code",
   "execution_count": 12,
   "metadata": {
    "scrolled": false
   },
   "outputs": [
    {
     "data": {
      "text/html": [
       "<div>\n",
       "<style scoped>\n",
       "    .dataframe tbody tr th:only-of-type {\n",
       "        vertical-align: middle;\n",
       "    }\n",
       "\n",
       "    .dataframe tbody tr th {\n",
       "        vertical-align: top;\n",
       "    }\n",
       "\n",
       "    .dataframe thead th {\n",
       "        text-align: right;\n",
       "    }\n",
       "</style>\n",
       "<table border=\"1\" class=\"dataframe\">\n",
       "  <thead>\n",
       "    <tr style=\"text-align: right;\">\n",
       "      <th></th>\n",
       "      <th>rating_id</th>\n",
       "      <th>book_id</th>\n",
       "      <th>username</th>\n",
       "      <th>rating</th>\n",
       "    </tr>\n",
       "  </thead>\n",
       "  <tbody>\n",
       "    <tr>\n",
       "      <th>4317</th>\n",
       "      <td>4318</td>\n",
       "      <td>693</td>\n",
       "      <td>tnolan</td>\n",
       "      <td>3</td>\n",
       "    </tr>\n",
       "    <tr>\n",
       "      <th>2901</th>\n",
       "      <td>2902</td>\n",
       "      <td>455</td>\n",
       "      <td>robert57</td>\n",
       "      <td>5</td>\n",
       "    </tr>\n",
       "    <tr>\n",
       "      <th>3809</th>\n",
       "      <td>3810</td>\n",
       "      <td>624</td>\n",
       "      <td>wknight</td>\n",
       "      <td>5</td>\n",
       "    </tr>\n",
       "    <tr>\n",
       "      <th>2750</th>\n",
       "      <td>2751</td>\n",
       "      <td>426</td>\n",
       "      <td>adamsabigail</td>\n",
       "      <td>4</td>\n",
       "    </tr>\n",
       "    <tr>\n",
       "      <th>154</th>\n",
       "      <td>155</td>\n",
       "      <td>33</td>\n",
       "      <td>mariokeller</td>\n",
       "      <td>3</td>\n",
       "    </tr>\n",
       "    <tr>\n",
       "      <th>1930</th>\n",
       "      <td>1931</td>\n",
       "      <td>302</td>\n",
       "      <td>amymckenzie</td>\n",
       "      <td>5</td>\n",
       "    </tr>\n",
       "    <tr>\n",
       "      <th>3904</th>\n",
       "      <td>3905</td>\n",
       "      <td>631</td>\n",
       "      <td>danielchung</td>\n",
       "      <td>3</td>\n",
       "    </tr>\n",
       "    <tr>\n",
       "      <th>2828</th>\n",
       "      <td>2829</td>\n",
       "      <td>437</td>\n",
       "      <td>jessica49</td>\n",
       "      <td>3</td>\n",
       "    </tr>\n",
       "    <tr>\n",
       "      <th>6145</th>\n",
       "      <td>6146</td>\n",
       "      <td>948</td>\n",
       "      <td>conradanita</td>\n",
       "      <td>3</td>\n",
       "    </tr>\n",
       "    <tr>\n",
       "      <th>645</th>\n",
       "      <td>646</td>\n",
       "      <td>98</td>\n",
       "      <td>masonsara</td>\n",
       "      <td>5</td>\n",
       "    </tr>\n",
       "  </tbody>\n",
       "</table>\n",
       "</div>"
      ],
      "text/plain": [
       "      rating_id  book_id      username  rating\n",
       "4317       4318      693        tnolan       3\n",
       "2901       2902      455      robert57       5\n",
       "3809       3810      624       wknight       5\n",
       "2750       2751      426  adamsabigail       4\n",
       "154         155       33   mariokeller       3\n",
       "1930       1931      302   amymckenzie       5\n",
       "3904       3905      631   danielchung       3\n",
       "2828       2829      437     jessica49       3\n",
       "6145       6146      948   conradanita       3\n",
       "645         646       98     masonsara       5"
      ]
     },
     "metadata": {},
     "output_type": "display_data"
    },
    {
     "name": "stdout",
     "output_type": "stream",
     "text": [
      "<class 'pandas.core.frame.DataFrame'>\n",
      "RangeIndex: 6456 entries, 0 to 6455\n",
      "Data columns (total 4 columns):\n",
      " #   Column     Non-Null Count  Dtype \n",
      "---  ------     --------------  ----- \n",
      " 0   rating_id  6456 non-null   int64 \n",
      " 1   book_id    6456 non-null   int64 \n",
      " 2   username   6456 non-null   object\n",
      " 3   rating     6456 non-null   int64 \n",
      "dtypes: int64(3), object(1)\n",
      "memory usage: 201.9+ KB\n"
     ]
    },
    {
     "data": {
      "text/html": [
       "<div>\n",
       "<style scoped>\n",
       "    .dataframe tbody tr th:only-of-type {\n",
       "        vertical-align: middle;\n",
       "    }\n",
       "\n",
       "    .dataframe tbody tr th {\n",
       "        vertical-align: top;\n",
       "    }\n",
       "\n",
       "    .dataframe thead th {\n",
       "        text-align: right;\n",
       "    }\n",
       "</style>\n",
       "<table border=\"1\" class=\"dataframe\">\n",
       "  <thead>\n",
       "    <tr style=\"text-align: right;\">\n",
       "      <th></th>\n",
       "      <th>rating_id</th>\n",
       "      <th>book_id</th>\n",
       "      <th>username</th>\n",
       "      <th>rating</th>\n",
       "    </tr>\n",
       "  </thead>\n",
       "  <tbody>\n",
       "    <tr>\n",
       "      <th>count</th>\n",
       "      <td>6456.000000</td>\n",
       "      <td>6456.000000</td>\n",
       "      <td>6456</td>\n",
       "      <td>6456.000000</td>\n",
       "    </tr>\n",
       "    <tr>\n",
       "      <th>unique</th>\n",
       "      <td>NaN</td>\n",
       "      <td>NaN</td>\n",
       "      <td>160</td>\n",
       "      <td>NaN</td>\n",
       "    </tr>\n",
       "    <tr>\n",
       "      <th>top</th>\n",
       "      <td>NaN</td>\n",
       "      <td>NaN</td>\n",
       "      <td>martinadam</td>\n",
       "      <td>NaN</td>\n",
       "    </tr>\n",
       "    <tr>\n",
       "      <th>freq</th>\n",
       "      <td>NaN</td>\n",
       "      <td>NaN</td>\n",
       "      <td>56</td>\n",
       "      <td>NaN</td>\n",
       "    </tr>\n",
       "    <tr>\n",
       "      <th>mean</th>\n",
       "      <td>3228.500000</td>\n",
       "      <td>510.574195</td>\n",
       "      <td>NaN</td>\n",
       "      <td>3.928284</td>\n",
       "    </tr>\n",
       "    <tr>\n",
       "      <th>std</th>\n",
       "      <td>1863.831001</td>\n",
       "      <td>284.141636</td>\n",
       "      <td>NaN</td>\n",
       "      <td>0.943303</td>\n",
       "    </tr>\n",
       "    <tr>\n",
       "      <th>min</th>\n",
       "      <td>1.000000</td>\n",
       "      <td>1.000000</td>\n",
       "      <td>NaN</td>\n",
       "      <td>1.000000</td>\n",
       "    </tr>\n",
       "    <tr>\n",
       "      <th>25%</th>\n",
       "      <td>1614.750000</td>\n",
       "      <td>291.000000</td>\n",
       "      <td>NaN</td>\n",
       "      <td>3.000000</td>\n",
       "    </tr>\n",
       "    <tr>\n",
       "      <th>50%</th>\n",
       "      <td>3228.500000</td>\n",
       "      <td>506.000000</td>\n",
       "      <td>NaN</td>\n",
       "      <td>4.000000</td>\n",
       "    </tr>\n",
       "    <tr>\n",
       "      <th>75%</th>\n",
       "      <td>4842.250000</td>\n",
       "      <td>750.000000</td>\n",
       "      <td>NaN</td>\n",
       "      <td>5.000000</td>\n",
       "    </tr>\n",
       "    <tr>\n",
       "      <th>max</th>\n",
       "      <td>6456.000000</td>\n",
       "      <td>1000.000000</td>\n",
       "      <td>NaN</td>\n",
       "      <td>5.000000</td>\n",
       "    </tr>\n",
       "  </tbody>\n",
       "</table>\n",
       "</div>"
      ],
      "text/plain": [
       "          rating_id      book_id    username       rating\n",
       "count   6456.000000  6456.000000        6456  6456.000000\n",
       "unique          NaN          NaN         160          NaN\n",
       "top             NaN          NaN  martinadam          NaN\n",
       "freq            NaN          NaN          56          NaN\n",
       "mean    3228.500000   510.574195         NaN     3.928284\n",
       "std     1863.831001   284.141636         NaN     0.943303\n",
       "min        1.000000     1.000000         NaN     1.000000\n",
       "25%     1614.750000   291.000000         NaN     3.000000\n",
       "50%     3228.500000   506.000000         NaN     4.000000\n",
       "75%     4842.250000   750.000000         NaN     5.000000\n",
       "max     6456.000000  1000.000000         NaN     5.000000"
      ]
     },
     "metadata": {},
     "output_type": "display_data"
    },
    {
     "data": {
      "text/plain": [
       "(None,\n",
       " None,\n",
       " None,\n",
       " rating_id    0\n",
       " book_id      0\n",
       " username     0\n",
       " rating       0\n",
       " dtype: int64)"
      ]
     },
     "execution_count": 12,
     "metadata": {},
     "output_type": "execute_result"
    }
   ],
   "source": [
    "total_info_data(select(ratings))"
   ]
  },
  {
   "cell_type": "markdown",
   "metadata": {},
   "source": [
    "* В таблице ratings 6456 строк и 4 столбца \n",
    "* Отсутствуют пропуски и дубликаты\n",
    "* Всего 160 уникальных пользователя сделали 6456 оценок, самый часто встречающийся юзер сделал 56 оценок\n",
    "* Значения рейтинга лежат в диапазоне от 1 до 5, все корректно"
   ]
  },
  {
   "cell_type": "markdown",
   "metadata": {},
   "source": [
    "###### Посмотрим данные из таблицы reviews"
   ]
  },
  {
   "cell_type": "code",
   "execution_count": 14,
   "metadata": {
    "scrolled": false
   },
   "outputs": [
    {
     "data": {
      "text/html": [
       "<div>\n",
       "<style scoped>\n",
       "    .dataframe tbody tr th:only-of-type {\n",
       "        vertical-align: middle;\n",
       "    }\n",
       "\n",
       "    .dataframe tbody tr th {\n",
       "        vertical-align: top;\n",
       "    }\n",
       "\n",
       "    .dataframe thead th {\n",
       "        text-align: right;\n",
       "    }\n",
       "</style>\n",
       "<table border=\"1\" class=\"dataframe\">\n",
       "  <thead>\n",
       "    <tr style=\"text-align: right;\">\n",
       "      <th></th>\n",
       "      <th>review_id</th>\n",
       "      <th>book_id</th>\n",
       "      <th>username</th>\n",
       "      <th>text</th>\n",
       "    </tr>\n",
       "  </thead>\n",
       "  <tbody>\n",
       "    <tr>\n",
       "      <th>850</th>\n",
       "      <td>851</td>\n",
       "      <td>311</td>\n",
       "      <td>tnovak</td>\n",
       "      <td>Pretty throughout size serve grow company. Abo...</td>\n",
       "    </tr>\n",
       "    <tr>\n",
       "      <th>196</th>\n",
       "      <td>196</td>\n",
       "      <td>68</td>\n",
       "      <td>webbmichelle</td>\n",
       "      <td>Soon travel get play control me pressure. Unde...</td>\n",
       "    </tr>\n",
       "    <tr>\n",
       "      <th>2683</th>\n",
       "      <td>2684</td>\n",
       "      <td>960</td>\n",
       "      <td>nthomas</td>\n",
       "      <td>Note to certainly third entire budget. True po...</td>\n",
       "    </tr>\n",
       "    <tr>\n",
       "      <th>1475</th>\n",
       "      <td>1475</td>\n",
       "      <td>536</td>\n",
       "      <td>timothygibson</td>\n",
       "      <td>Lead simple under local. Economy war discussio...</td>\n",
       "    </tr>\n",
       "    <tr>\n",
       "      <th>775</th>\n",
       "      <td>774</td>\n",
       "      <td>287</td>\n",
       "      <td>rbender</td>\n",
       "      <td>How record air high what worker. Debate bring ...</td>\n",
       "    </tr>\n",
       "    <tr>\n",
       "      <th>1955</th>\n",
       "      <td>1954</td>\n",
       "      <td>705</td>\n",
       "      <td>shermannatalie</td>\n",
       "      <td>Wait rise machine letter table six only. Try t...</td>\n",
       "    </tr>\n",
       "    <tr>\n",
       "      <th>2004</th>\n",
       "      <td>2003</td>\n",
       "      <td>724</td>\n",
       "      <td>fconrad</td>\n",
       "      <td>Very heavy morning standard democratic cut.</td>\n",
       "    </tr>\n",
       "    <tr>\n",
       "      <th>2439</th>\n",
       "      <td>2439</td>\n",
       "      <td>873</td>\n",
       "      <td>michael57</td>\n",
       "      <td>Once reach carry nor result budget. Cost estab...</td>\n",
       "    </tr>\n",
       "    <tr>\n",
       "      <th>1588</th>\n",
       "      <td>1587</td>\n",
       "      <td>577</td>\n",
       "      <td>briannachavez</td>\n",
       "      <td>Political son draw else stay special third. So...</td>\n",
       "    </tr>\n",
       "    <tr>\n",
       "      <th>1239</th>\n",
       "      <td>1239</td>\n",
       "      <td>452</td>\n",
       "      <td>edwardbrown</td>\n",
       "      <td>Room study rather fast organization item accor...</td>\n",
       "    </tr>\n",
       "  </tbody>\n",
       "</table>\n",
       "</div>"
      ],
      "text/plain": [
       "      review_id  book_id        username  \\\n",
       "850         851      311          tnovak   \n",
       "196         196       68    webbmichelle   \n",
       "2683       2684      960         nthomas   \n",
       "1475       1475      536   timothygibson   \n",
       "775         774      287         rbender   \n",
       "1955       1954      705  shermannatalie   \n",
       "2004       2003      724         fconrad   \n",
       "2439       2439      873       michael57   \n",
       "1588       1587      577   briannachavez   \n",
       "1239       1239      452     edwardbrown   \n",
       "\n",
       "                                                   text  \n",
       "850   Pretty throughout size serve grow company. Abo...  \n",
       "196   Soon travel get play control me pressure. Unde...  \n",
       "2683  Note to certainly third entire budget. True po...  \n",
       "1475  Lead simple under local. Economy war discussio...  \n",
       "775   How record air high what worker. Debate bring ...  \n",
       "1955  Wait rise machine letter table six only. Try t...  \n",
       "2004        Very heavy morning standard democratic cut.  \n",
       "2439  Once reach carry nor result budget. Cost estab...  \n",
       "1588  Political son draw else stay special third. So...  \n",
       "1239  Room study rather fast organization item accor...  "
      ]
     },
     "metadata": {},
     "output_type": "display_data"
    },
    {
     "name": "stdout",
     "output_type": "stream",
     "text": [
      "<class 'pandas.core.frame.DataFrame'>\n",
      "RangeIndex: 2793 entries, 0 to 2792\n",
      "Data columns (total 4 columns):\n",
      " #   Column     Non-Null Count  Dtype \n",
      "---  ------     --------------  ----- \n",
      " 0   review_id  2793 non-null   int64 \n",
      " 1   book_id    2793 non-null   int64 \n",
      " 2   username   2793 non-null   object\n",
      " 3   text       2793 non-null   object\n",
      "dtypes: int64(2), object(2)\n",
      "memory usage: 87.4+ KB\n"
     ]
    },
    {
     "data": {
      "text/html": [
       "<div>\n",
       "<style scoped>\n",
       "    .dataframe tbody tr th:only-of-type {\n",
       "        vertical-align: middle;\n",
       "    }\n",
       "\n",
       "    .dataframe tbody tr th {\n",
       "        vertical-align: top;\n",
       "    }\n",
       "\n",
       "    .dataframe thead th {\n",
       "        text-align: right;\n",
       "    }\n",
       "</style>\n",
       "<table border=\"1\" class=\"dataframe\">\n",
       "  <thead>\n",
       "    <tr style=\"text-align: right;\">\n",
       "      <th></th>\n",
       "      <th>review_id</th>\n",
       "      <th>book_id</th>\n",
       "      <th>username</th>\n",
       "      <th>text</th>\n",
       "    </tr>\n",
       "  </thead>\n",
       "  <tbody>\n",
       "    <tr>\n",
       "      <th>count</th>\n",
       "      <td>2793.000000</td>\n",
       "      <td>2793.000000</td>\n",
       "      <td>2793</td>\n",
       "      <td>2793</td>\n",
       "    </tr>\n",
       "    <tr>\n",
       "      <th>unique</th>\n",
       "      <td>NaN</td>\n",
       "      <td>NaN</td>\n",
       "      <td>160</td>\n",
       "      <td>2793</td>\n",
       "    </tr>\n",
       "    <tr>\n",
       "      <th>top</th>\n",
       "      <td>NaN</td>\n",
       "      <td>NaN</td>\n",
       "      <td>susan85</td>\n",
       "      <td>Experience one around start Mrs other test. No...</td>\n",
       "    </tr>\n",
       "    <tr>\n",
       "      <th>freq</th>\n",
       "      <td>NaN</td>\n",
       "      <td>NaN</td>\n",
       "      <td>29</td>\n",
       "      <td>1</td>\n",
       "    </tr>\n",
       "    <tr>\n",
       "      <th>mean</th>\n",
       "      <td>1397.000000</td>\n",
       "      <td>504.693161</td>\n",
       "      <td>NaN</td>\n",
       "      <td>NaN</td>\n",
       "    </tr>\n",
       "    <tr>\n",
       "      <th>std</th>\n",
       "      <td>806.413976</td>\n",
       "      <td>288.472931</td>\n",
       "      <td>NaN</td>\n",
       "      <td>NaN</td>\n",
       "    </tr>\n",
       "    <tr>\n",
       "      <th>min</th>\n",
       "      <td>1.000000</td>\n",
       "      <td>1.000000</td>\n",
       "      <td>NaN</td>\n",
       "      <td>NaN</td>\n",
       "    </tr>\n",
       "    <tr>\n",
       "      <th>25%</th>\n",
       "      <td>699.000000</td>\n",
       "      <td>259.000000</td>\n",
       "      <td>NaN</td>\n",
       "      <td>NaN</td>\n",
       "    </tr>\n",
       "    <tr>\n",
       "      <th>50%</th>\n",
       "      <td>1397.000000</td>\n",
       "      <td>505.000000</td>\n",
       "      <td>NaN</td>\n",
       "      <td>NaN</td>\n",
       "    </tr>\n",
       "    <tr>\n",
       "      <th>75%</th>\n",
       "      <td>2095.000000</td>\n",
       "      <td>753.000000</td>\n",
       "      <td>NaN</td>\n",
       "      <td>NaN</td>\n",
       "    </tr>\n",
       "    <tr>\n",
       "      <th>max</th>\n",
       "      <td>2793.000000</td>\n",
       "      <td>1000.000000</td>\n",
       "      <td>NaN</td>\n",
       "      <td>NaN</td>\n",
       "    </tr>\n",
       "  </tbody>\n",
       "</table>\n",
       "</div>"
      ],
      "text/plain": [
       "          review_id      book_id username  \\\n",
       "count   2793.000000  2793.000000     2793   \n",
       "unique          NaN          NaN      160   \n",
       "top             NaN          NaN  susan85   \n",
       "freq            NaN          NaN       29   \n",
       "mean    1397.000000   504.693161      NaN   \n",
       "std      806.413976   288.472931      NaN   \n",
       "min        1.000000     1.000000      NaN   \n",
       "25%      699.000000   259.000000      NaN   \n",
       "50%     1397.000000   505.000000      NaN   \n",
       "75%     2095.000000   753.000000      NaN   \n",
       "max     2793.000000  1000.000000      NaN   \n",
       "\n",
       "                                                     text  \n",
       "count                                                2793  \n",
       "unique                                               2793  \n",
       "top     Experience one around start Mrs other test. No...  \n",
       "freq                                                    1  \n",
       "mean                                                  NaN  \n",
       "std                                                   NaN  \n",
       "min                                                   NaN  \n",
       "25%                                                   NaN  \n",
       "50%                                                   NaN  \n",
       "75%                                                   NaN  \n",
       "max                                                   NaN  "
      ]
     },
     "metadata": {},
     "output_type": "display_data"
    },
    {
     "data": {
      "text/plain": [
       "(None,\n",
       " None,\n",
       " None,\n",
       " review_id    0\n",
       " book_id      0\n",
       " username     0\n",
       " text         0\n",
       " dtype: int64)"
      ]
     },
     "execution_count": 14,
     "metadata": {},
     "output_type": "execute_result"
    }
   ],
   "source": [
    "total_info_data(select(reviews))"
   ]
  },
  {
   "cell_type": "markdown",
   "metadata": {},
   "source": [
    "* В таблице reviews 2793 строк и 4 столбца\n",
    "* Отсутствуют пропуски и дубликаты\n",
    "* 160 уникальных ользователей сделали 2793 ревью, самый часто встречающийся юзер сделал 29 ревью"
   ]
  },
  {
   "cell_type": "markdown",
   "metadata": {},
   "source": [
    "### Вывод\n",
    "* Все таблицы без прпоусков и дубликатов\n",
    "* Имеют корректный тип данных\n",
    "* Аномальных значений почти не замечено, только объем страниц вызвал сомнения, но для задания нам это не важно"
   ]
  },
  {
   "cell_type": "markdown",
   "metadata": {},
   "source": [
    "## Выполнение заданий"
   ]
  },
  {
   "cell_type": "markdown",
   "metadata": {},
   "source": [
    "### Задание 1"
   ]
  },
  {
   "cell_type": "markdown",
   "metadata": {},
   "source": [
    "###### Посчитаем сколько книг, выпущено после 1 января 2000 года"
   ]
  },
  {
   "cell_type": "code",
   "execution_count": 15,
   "metadata": {},
   "outputs": [],
   "source": [
    "books_count = '''\n",
    "SELECT COUNT(book_id) FROM books WHERE publication_date > '2000-01-01'\n",
    "'''"
   ]
  },
  {
   "cell_type": "code",
   "execution_count": 16,
   "metadata": {},
   "outputs": [
    {
     "data": {
      "text/html": [
       "<div>\n",
       "<style scoped>\n",
       "    .dataframe tbody tr th:only-of-type {\n",
       "        vertical-align: middle;\n",
       "    }\n",
       "\n",
       "    .dataframe tbody tr th {\n",
       "        vertical-align: top;\n",
       "    }\n",
       "\n",
       "    .dataframe thead th {\n",
       "        text-align: right;\n",
       "    }\n",
       "</style>\n",
       "<table border=\"1\" class=\"dataframe\">\n",
       "  <thead>\n",
       "    <tr style=\"text-align: right;\">\n",
       "      <th></th>\n",
       "      <th>count</th>\n",
       "    </tr>\n",
       "  </thead>\n",
       "  <tbody>\n",
       "    <tr>\n",
       "      <th>0</th>\n",
       "      <td>819</td>\n",
       "    </tr>\n",
       "  </tbody>\n",
       "</table>\n",
       "</div>"
      ],
      "text/plain": [
       "   count\n",
       "0    819"
      ]
     },
     "execution_count": 16,
     "metadata": {},
     "output_type": "execute_result"
    }
   ],
   "source": [
    "select(books_count)"
   ]
  },
  {
   "cell_type": "markdown",
   "metadata": {},
   "source": [
    "После 1 января 2000 года было выпущено 819 книг"
   ]
  },
  {
   "cell_type": "markdown",
   "metadata": {},
   "source": []
  },
  {
   "cell_type": "markdown",
   "metadata": {},
   "source": [
    "### Задание 2"
   ]
  },
  {
   "cell_type": "markdown",
   "metadata": {},
   "source": [
    "###### Посчитаем для каждой книги количество обзоров и среднюю оценку"
   ]
  },
  {
   "cell_type": "code",
   "execution_count": 17,
   "metadata": {},
   "outputs": [],
   "source": [
    "book_reviews = '''\n",
    "SELECT books.title,\n",
    "    books.book_id,\n",
    "    AVG(ratings.rating) AS avg,\n",
    "    COUNT(DISTINCT reviews.text) AS cnt\n",
    "FROM\n",
    "    books\n",
    "LEFT JOIN ratings ON ratings.book_id = books.book_id\n",
    "LEFT JOIN reviews ON reviews.book_id = books.book_id\n",
    "GROUP BY\n",
    "    books.title,\n",
    "    books.book_id\n",
    "ORDER BY\n",
    "    cnt DESC\n",
    "\n",
    "'''"
   ]
  },
  {
   "cell_type": "code",
   "execution_count": 18,
   "metadata": {
    "scrolled": false
   },
   "outputs": [
    {
     "data": {
      "text/html": [
       "<div>\n",
       "<style scoped>\n",
       "    .dataframe tbody tr th:only-of-type {\n",
       "        vertical-align: middle;\n",
       "    }\n",
       "\n",
       "    .dataframe tbody tr th {\n",
       "        vertical-align: top;\n",
       "    }\n",
       "\n",
       "    .dataframe thead th {\n",
       "        text-align: right;\n",
       "    }\n",
       "</style>\n",
       "<table border=\"1\" class=\"dataframe\">\n",
       "  <thead>\n",
       "    <tr style=\"text-align: right;\">\n",
       "      <th></th>\n",
       "      <th>title</th>\n",
       "      <th>book_id</th>\n",
       "      <th>avg</th>\n",
       "      <th>cnt</th>\n",
       "    </tr>\n",
       "  </thead>\n",
       "  <tbody>\n",
       "    <tr>\n",
       "      <th>0</th>\n",
       "      <td>Twilight (Twilight  #1)</td>\n",
       "      <td>948</td>\n",
       "      <td>3.662500</td>\n",
       "      <td>7</td>\n",
       "    </tr>\n",
       "    <tr>\n",
       "      <th>1</th>\n",
       "      <td>Water for Elephants</td>\n",
       "      <td>963</td>\n",
       "      <td>3.977273</td>\n",
       "      <td>6</td>\n",
       "    </tr>\n",
       "    <tr>\n",
       "      <th>2</th>\n",
       "      <td>The Glass Castle</td>\n",
       "      <td>734</td>\n",
       "      <td>4.206897</td>\n",
       "      <td>6</td>\n",
       "    </tr>\n",
       "    <tr>\n",
       "      <th>3</th>\n",
       "      <td>Harry Potter and the Prisoner of Azkaban (Harr...</td>\n",
       "      <td>302</td>\n",
       "      <td>4.414634</td>\n",
       "      <td>6</td>\n",
       "    </tr>\n",
       "    <tr>\n",
       "      <th>4</th>\n",
       "      <td>The Curious Incident of the Dog in the Night-Time</td>\n",
       "      <td>695</td>\n",
       "      <td>4.081081</td>\n",
       "      <td>6</td>\n",
       "    </tr>\n",
       "    <tr>\n",
       "      <th>...</th>\n",
       "      <td>...</td>\n",
       "      <td>...</td>\n",
       "      <td>...</td>\n",
       "      <td>...</td>\n",
       "    </tr>\n",
       "    <tr>\n",
       "      <th>995</th>\n",
       "      <td>Anne Rice's The Vampire Lestat: A Graphic Novel</td>\n",
       "      <td>83</td>\n",
       "      <td>3.666667</td>\n",
       "      <td>0</td>\n",
       "    </tr>\n",
       "    <tr>\n",
       "      <th>996</th>\n",
       "      <td>The Natural Way to Draw</td>\n",
       "      <td>808</td>\n",
       "      <td>3.000000</td>\n",
       "      <td>0</td>\n",
       "    </tr>\n",
       "    <tr>\n",
       "      <th>997</th>\n",
       "      <td>The Cat in the Hat and Other Dr. Seuss Favorites</td>\n",
       "      <td>672</td>\n",
       "      <td>5.000000</td>\n",
       "      <td>0</td>\n",
       "    </tr>\n",
       "    <tr>\n",
       "      <th>998</th>\n",
       "      <td>Essential Tales and Poems</td>\n",
       "      <td>221</td>\n",
       "      <td>4.000000</td>\n",
       "      <td>0</td>\n",
       "    </tr>\n",
       "    <tr>\n",
       "      <th>999</th>\n",
       "      <td>Disney's Beauty and the Beast (A Little Golden...</td>\n",
       "      <td>191</td>\n",
       "      <td>4.000000</td>\n",
       "      <td>0</td>\n",
       "    </tr>\n",
       "  </tbody>\n",
       "</table>\n",
       "<p>1000 rows × 4 columns</p>\n",
       "</div>"
      ],
      "text/plain": [
       "                                                 title  book_id       avg  cnt\n",
       "0                              Twilight (Twilight  #1)      948  3.662500    7\n",
       "1                                  Water for Elephants      963  3.977273    6\n",
       "2                                     The Glass Castle      734  4.206897    6\n",
       "3    Harry Potter and the Prisoner of Azkaban (Harr...      302  4.414634    6\n",
       "4    The Curious Incident of the Dog in the Night-Time      695  4.081081    6\n",
       "..                                                 ...      ...       ...  ...\n",
       "995    Anne Rice's The Vampire Lestat: A Graphic Novel       83  3.666667    0\n",
       "996                            The Natural Way to Draw      808  3.000000    0\n",
       "997   The Cat in the Hat and Other Dr. Seuss Favorites      672  5.000000    0\n",
       "998                          Essential Tales and Poems      221  4.000000    0\n",
       "999  Disney's Beauty and the Beast (A Little Golden...      191  4.000000    0\n",
       "\n",
       "[1000 rows x 4 columns]"
      ]
     },
     "execution_count": 18,
     "metadata": {},
     "output_type": "execute_result"
    }
   ],
   "source": [
    "select(book_reviews)"
   ]
  },
  {
   "cell_type": "code",
   "execution_count": 19,
   "metadata": {},
   "outputs": [
    {
     "data": {
      "text/html": [
       "<div>\n",
       "<style scoped>\n",
       "    .dataframe tbody tr th:only-of-type {\n",
       "        vertical-align: middle;\n",
       "    }\n",
       "\n",
       "    .dataframe tbody tr th {\n",
       "        vertical-align: top;\n",
       "    }\n",
       "\n",
       "    .dataframe thead th {\n",
       "        text-align: right;\n",
       "    }\n",
       "</style>\n",
       "<table border=\"1\" class=\"dataframe\">\n",
       "  <thead>\n",
       "    <tr style=\"text-align: right;\">\n",
       "      <th></th>\n",
       "      <th>book_id</th>\n",
       "      <th>avg</th>\n",
       "      <th>cnt</th>\n",
       "    </tr>\n",
       "  </thead>\n",
       "  <tbody>\n",
       "    <tr>\n",
       "      <th>count</th>\n",
       "      <td>1000.000000</td>\n",
       "      <td>1000.000000</td>\n",
       "      <td>1000.000000</td>\n",
       "    </tr>\n",
       "    <tr>\n",
       "      <th>mean</th>\n",
       "      <td>500.500000</td>\n",
       "      <td>3.898973</td>\n",
       "      <td>2.793000</td>\n",
       "    </tr>\n",
       "    <tr>\n",
       "      <th>std</th>\n",
       "      <td>288.819436</td>\n",
       "      <td>0.562376</td>\n",
       "      <td>1.074852</td>\n",
       "    </tr>\n",
       "    <tr>\n",
       "      <th>min</th>\n",
       "      <td>1.000000</td>\n",
       "      <td>1.500000</td>\n",
       "      <td>0.000000</td>\n",
       "    </tr>\n",
       "    <tr>\n",
       "      <th>25%</th>\n",
       "      <td>250.750000</td>\n",
       "      <td>3.500000</td>\n",
       "      <td>2.000000</td>\n",
       "    </tr>\n",
       "    <tr>\n",
       "      <th>50%</th>\n",
       "      <td>500.500000</td>\n",
       "      <td>4.000000</td>\n",
       "      <td>3.000000</td>\n",
       "    </tr>\n",
       "    <tr>\n",
       "      <th>75%</th>\n",
       "      <td>750.250000</td>\n",
       "      <td>4.333333</td>\n",
       "      <td>3.000000</td>\n",
       "    </tr>\n",
       "    <tr>\n",
       "      <th>max</th>\n",
       "      <td>1000.000000</td>\n",
       "      <td>5.000000</td>\n",
       "      <td>7.000000</td>\n",
       "    </tr>\n",
       "  </tbody>\n",
       "</table>\n",
       "</div>"
      ],
      "text/plain": [
       "           book_id          avg          cnt\n",
       "count  1000.000000  1000.000000  1000.000000\n",
       "mean    500.500000     3.898973     2.793000\n",
       "std     288.819436     0.562376     1.074852\n",
       "min       1.000000     1.500000     0.000000\n",
       "25%     250.750000     3.500000     2.000000\n",
       "50%     500.500000     4.000000     3.000000\n",
       "75%     750.250000     4.333333     3.000000\n",
       "max    1000.000000     5.000000     7.000000"
      ]
     },
     "execution_count": 19,
     "metadata": {},
     "output_type": "execute_result"
    }
   ],
   "source": [
    "select(book_reviews).describe()"
   ]
  },
  {
   "cell_type": "markdown",
   "metadata": {},
   "source": [
    "* Максимальное кол-во обзоров у книги Twilight (Twilight #1) - 7, затем следует множество книг с количеством обзоров - 6,\n",
    "75% книг имеет 2 или больше оценки\n",
    "* 50% книг имеют оценку в диапазоне 3.5 - 4.3.\n",
    "* Есть ряд книг без обзоров но с оценкой"
   ]
  },
  {
   "cell_type": "markdown",
   "metadata": {},
   "source": [
    "### Задание 3"
   ]
  },
  {
   "cell_type": "markdown",
   "metadata": {},
   "source": [
    "###### Определим издательство, которое издало наибольшее число книг толще 50 страниц"
   ]
  },
  {
   "cell_type": "code",
   "execution_count": 20,
   "metadata": {},
   "outputs": [],
   "source": [
    "book_publisher = '''\n",
    "SELECT\n",
    "    publishers.publisher AS name,\n",
    "    COUNT(books.book_id) AS cnt\n",
    "FROM\n",
    "    publishers\n",
    "INNER JOIN books ON books.publisher_id = publishers.publisher_id\n",
    "WHERE\n",
    "    books.num_pages > 50\n",
    "GROUP BY\n",
    "    name\n",
    "ORDER BY \n",
    "    cnt DESC\n",
    "\n",
    "'''"
   ]
  },
  {
   "cell_type": "code",
   "execution_count": 21,
   "metadata": {},
   "outputs": [
    {
     "data": {
      "text/html": [
       "<div>\n",
       "<style scoped>\n",
       "    .dataframe tbody tr th:only-of-type {\n",
       "        vertical-align: middle;\n",
       "    }\n",
       "\n",
       "    .dataframe tbody tr th {\n",
       "        vertical-align: top;\n",
       "    }\n",
       "\n",
       "    .dataframe thead th {\n",
       "        text-align: right;\n",
       "    }\n",
       "</style>\n",
       "<table border=\"1\" class=\"dataframe\">\n",
       "  <thead>\n",
       "    <tr style=\"text-align: right;\">\n",
       "      <th></th>\n",
       "      <th>name</th>\n",
       "      <th>cnt</th>\n",
       "    </tr>\n",
       "  </thead>\n",
       "  <tbody>\n",
       "    <tr>\n",
       "      <th>0</th>\n",
       "      <td>Penguin Books</td>\n",
       "      <td>42</td>\n",
       "    </tr>\n",
       "    <tr>\n",
       "      <th>1</th>\n",
       "      <td>Vintage</td>\n",
       "      <td>31</td>\n",
       "    </tr>\n",
       "    <tr>\n",
       "      <th>2</th>\n",
       "      <td>Grand Central Publishing</td>\n",
       "      <td>25</td>\n",
       "    </tr>\n",
       "    <tr>\n",
       "      <th>3</th>\n",
       "      <td>Penguin Classics</td>\n",
       "      <td>24</td>\n",
       "    </tr>\n",
       "    <tr>\n",
       "      <th>4</th>\n",
       "      <td>Ballantine Books</td>\n",
       "      <td>19</td>\n",
       "    </tr>\n",
       "  </tbody>\n",
       "</table>\n",
       "</div>"
      ],
      "text/plain": [
       "                       name  cnt\n",
       "0             Penguin Books   42\n",
       "1                   Vintage   31\n",
       "2  Grand Central Publishing   25\n",
       "3          Penguin Classics   24\n",
       "4          Ballantine Books   19"
      ]
     },
     "execution_count": 21,
     "metadata": {},
     "output_type": "execute_result"
    }
   ],
   "source": [
    "select(book_publisher).head()"
   ]
  },
  {
   "cell_type": "code",
   "execution_count": 22,
   "metadata": {},
   "outputs": [
    {
     "data": {
      "text/html": [
       "<div>\n",
       "<style scoped>\n",
       "    .dataframe tbody tr th:only-of-type {\n",
       "        vertical-align: middle;\n",
       "    }\n",
       "\n",
       "    .dataframe tbody tr th {\n",
       "        vertical-align: top;\n",
       "    }\n",
       "\n",
       "    .dataframe thead th {\n",
       "        text-align: right;\n",
       "    }\n",
       "</style>\n",
       "<table border=\"1\" class=\"dataframe\">\n",
       "  <thead>\n",
       "    <tr style=\"text-align: right;\">\n",
       "      <th></th>\n",
       "      <th>cnt</th>\n",
       "    </tr>\n",
       "  </thead>\n",
       "  <tbody>\n",
       "    <tr>\n",
       "      <th>count</th>\n",
       "      <td>334.000000</td>\n",
       "    </tr>\n",
       "    <tr>\n",
       "      <th>mean</th>\n",
       "      <td>2.970060</td>\n",
       "    </tr>\n",
       "    <tr>\n",
       "      <th>std</th>\n",
       "      <td>4.377015</td>\n",
       "    </tr>\n",
       "    <tr>\n",
       "      <th>min</th>\n",
       "      <td>1.000000</td>\n",
       "    </tr>\n",
       "    <tr>\n",
       "      <th>25%</th>\n",
       "      <td>1.000000</td>\n",
       "    </tr>\n",
       "    <tr>\n",
       "      <th>50%</th>\n",
       "      <td>1.000000</td>\n",
       "    </tr>\n",
       "    <tr>\n",
       "      <th>75%</th>\n",
       "      <td>3.000000</td>\n",
       "    </tr>\n",
       "    <tr>\n",
       "      <th>max</th>\n",
       "      <td>42.000000</td>\n",
       "    </tr>\n",
       "  </tbody>\n",
       "</table>\n",
       "</div>"
      ],
      "text/plain": [
       "              cnt\n",
       "count  334.000000\n",
       "mean     2.970060\n",
       "std      4.377015\n",
       "min      1.000000\n",
       "25%      1.000000\n",
       "50%      1.000000\n",
       "75%      3.000000\n",
       "max     42.000000"
      ]
     },
     "execution_count": 22,
     "metadata": {},
     "output_type": "execute_result"
    }
   ],
   "source": [
    "select(book_publisher).describe()"
   ]
  },
  {
   "cell_type": "markdown",
   "metadata": {},
   "source": [
    "* Издательство Penguin Books - выпустило наибольше число книг в кол-ве 42 книг, толще 50 страниц, затем следуют издательства Vintage (31) и Grand Central Publishing (25)\n",
    "* Как миниму 50% издательств выпустило всего по 1 книге больше 50 страниц. Около 25% издательств выпустило 3 и более книги толще 50 страниц."
   ]
  },
  {
   "cell_type": "markdown",
   "metadata": {},
   "source": []
  },
  {
   "cell_type": "markdown",
   "metadata": {},
   "source": [
    "### Задание 4"
   ]
  },
  {
   "cell_type": "markdown",
   "metadata": {},
   "source": [
    "######  Определим автора с самой высокой средней оценкой книг (учитываем только книги с 50 и более оценками)."
   ]
  },
  {
   "cell_type": "code",
   "execution_count": 23,
   "metadata": {},
   "outputs": [],
   "source": [
    "best_author = '''\n",
    "SELECT\n",
    "    ABAC.author AS author,\n",
    "    AVG(ABAC.avg_rating) AS avg_rating\n",
    "FROM\n",
    "(SELECT\n",
    "    authors.author AS author,\n",
    "    books.book_id AS id,\n",
    "    AVG(ratings.rating) AS avg_rating,\n",
    "    COUNT(ratings.rating) AS cnt_rating\n",
    "FROM\n",
    "    authors\n",
    "INNER JOIN books ON books.author_id = authors.author_id\n",
    "INNER JOIN ratings ON ratings.book_id = books.book_id\n",
    "GROUP BY\n",
    "    author,\n",
    "    id\n",
    "    HAVING\n",
    "    COUNT(ratings.rating) >= 50) AS ABAC\n",
    "GROUP BY\n",
    "    author\n",
    "ORDER BY\n",
    "    avg_rating DESC\n",
    "'''"
   ]
  },
  {
   "cell_type": "code",
   "execution_count": 24,
   "metadata": {},
   "outputs": [
    {
     "data": {
      "text/html": [
       "<div>\n",
       "<style scoped>\n",
       "    .dataframe tbody tr th:only-of-type {\n",
       "        vertical-align: middle;\n",
       "    }\n",
       "\n",
       "    .dataframe tbody tr th {\n",
       "        vertical-align: top;\n",
       "    }\n",
       "\n",
       "    .dataframe thead th {\n",
       "        text-align: right;\n",
       "    }\n",
       "</style>\n",
       "<table border=\"1\" class=\"dataframe\">\n",
       "  <thead>\n",
       "    <tr style=\"text-align: right;\">\n",
       "      <th></th>\n",
       "      <th>author</th>\n",
       "      <th>avg_rating</th>\n",
       "    </tr>\n",
       "  </thead>\n",
       "  <tbody>\n",
       "    <tr>\n",
       "      <th>0</th>\n",
       "      <td>J.K. Rowling/Mary GrandPré</td>\n",
       "      <td>4.283844</td>\n",
       "    </tr>\n",
       "    <tr>\n",
       "      <th>1</th>\n",
       "      <td>Markus Zusak/Cao Xuân Việt Khương</td>\n",
       "      <td>4.264151</td>\n",
       "    </tr>\n",
       "    <tr>\n",
       "      <th>2</th>\n",
       "      <td>J.R.R. Tolkien</td>\n",
       "      <td>4.258446</td>\n",
       "    </tr>\n",
       "    <tr>\n",
       "      <th>3</th>\n",
       "      <td>Louisa May Alcott</td>\n",
       "      <td>4.192308</td>\n",
       "    </tr>\n",
       "    <tr>\n",
       "      <th>4</th>\n",
       "      <td>Rick Riordan</td>\n",
       "      <td>4.080645</td>\n",
       "    </tr>\n",
       "    <tr>\n",
       "      <th>5</th>\n",
       "      <td>William Golding</td>\n",
       "      <td>3.901408</td>\n",
       "    </tr>\n",
       "    <tr>\n",
       "      <th>6</th>\n",
       "      <td>J.D. Salinger</td>\n",
       "      <td>3.825581</td>\n",
       "    </tr>\n",
       "    <tr>\n",
       "      <th>7</th>\n",
       "      <td>Paulo Coelho/Alan R. Clarke/Özdemir İnce</td>\n",
       "      <td>3.789474</td>\n",
       "    </tr>\n",
       "    <tr>\n",
       "      <th>8</th>\n",
       "      <td>William Shakespeare/Paul Werstine/Barbara A. M...</td>\n",
       "      <td>3.787879</td>\n",
       "    </tr>\n",
       "    <tr>\n",
       "      <th>9</th>\n",
       "      <td>Dan Brown</td>\n",
       "      <td>3.754540</td>\n",
       "    </tr>\n",
       "    <tr>\n",
       "      <th>10</th>\n",
       "      <td>Lois Lowry</td>\n",
       "      <td>3.750000</td>\n",
       "    </tr>\n",
       "    <tr>\n",
       "      <th>11</th>\n",
       "      <td>George Orwell/Boris Grabnar/Peter Škerl</td>\n",
       "      <td>3.729730</td>\n",
       "    </tr>\n",
       "    <tr>\n",
       "      <th>12</th>\n",
       "      <td>Stephenie Meyer</td>\n",
       "      <td>3.662500</td>\n",
       "    </tr>\n",
       "    <tr>\n",
       "      <th>13</th>\n",
       "      <td>John Steinbeck</td>\n",
       "      <td>3.622951</td>\n",
       "    </tr>\n",
       "  </tbody>\n",
       "</table>\n",
       "</div>"
      ],
      "text/plain": [
       "                                               author  avg_rating\n",
       "0                          J.K. Rowling/Mary GrandPré    4.283844\n",
       "1                   Markus Zusak/Cao Xuân Việt Khương    4.264151\n",
       "2                                      J.R.R. Tolkien    4.258446\n",
       "3                                   Louisa May Alcott    4.192308\n",
       "4                                        Rick Riordan    4.080645\n",
       "5                                     William Golding    3.901408\n",
       "6                                       J.D. Salinger    3.825581\n",
       "7            Paulo Coelho/Alan R. Clarke/Özdemir İnce    3.789474\n",
       "8   William Shakespeare/Paul Werstine/Barbara A. M...    3.787879\n",
       "9                                           Dan Brown    3.754540\n",
       "10                                         Lois Lowry    3.750000\n",
       "11            George Orwell/Boris Grabnar/Peter Škerl    3.729730\n",
       "12                                    Stephenie Meyer    3.662500\n",
       "13                                     John Steinbeck    3.622951"
      ]
     },
     "execution_count": 24,
     "metadata": {},
     "output_type": "execute_result"
    }
   ],
   "source": [
    "select(best_author)"
   ]
  },
  {
   "cell_type": "markdown",
   "metadata": {},
   "source": [
    "Cамая высокая средняя оценка у автора J.K. Rowling/Mary GrandPré (4.2838), далее Markus Zusak/Cao Xuân Việt Khương (4.264) и J.R.R. Tolkien (4.258)\n"
   ]
  },
  {
   "cell_type": "markdown",
   "metadata": {},
   "source": [
    "### Задание 5"
   ]
  },
  {
   "cell_type": "markdown",
   "metadata": {},
   "source": [
    "######  Посчитаем среднее количество обзоров от пользователей, которые поставили больше 50 оценок."
   ]
  },
  {
   "cell_type": "code",
   "execution_count": 25,
   "metadata": {},
   "outputs": [],
   "source": [
    "avg_text = '''\n",
    "SELECT ROUND(avg(count)) \n",
    "FROM\n",
    "(SELECT\n",
    "    COUNT(text)\n",
    "FROM \n",
    "    reviews\n",
    "FULL OUTER JOIN (SELECT username,\n",
    "    COUNT(rating_id) as cnt\n",
    "FROM \n",
    "    ratings\n",
    "GROUP BY\n",
    "    username) AS cnt_rating\n",
    "ON cnt_rating.username = reviews.username\n",
    "WHERE cnt > 50\n",
    "GROUP BY reviews.username) as count\n",
    "'''"
   ]
  },
  {
   "cell_type": "code",
   "execution_count": 26,
   "metadata": {},
   "outputs": [
    {
     "data": {
      "text/html": [
       "<div>\n",
       "<style scoped>\n",
       "    .dataframe tbody tr th:only-of-type {\n",
       "        vertical-align: middle;\n",
       "    }\n",
       "\n",
       "    .dataframe tbody tr th {\n",
       "        vertical-align: top;\n",
       "    }\n",
       "\n",
       "    .dataframe thead th {\n",
       "        text-align: right;\n",
       "    }\n",
       "</style>\n",
       "<table border=\"1\" class=\"dataframe\">\n",
       "  <thead>\n",
       "    <tr style=\"text-align: right;\">\n",
       "      <th></th>\n",
       "      <th>round</th>\n",
       "    </tr>\n",
       "  </thead>\n",
       "  <tbody>\n",
       "    <tr>\n",
       "      <th>0</th>\n",
       "      <td>24.0</td>\n",
       "    </tr>\n",
       "  </tbody>\n",
       "</table>\n",
       "</div>"
      ],
      "text/plain": [
       "   round\n",
       "0   24.0"
      ]
     },
     "execution_count": 26,
     "metadata": {},
     "output_type": "execute_result"
    }
   ],
   "source": [
    "select(avg_text)"
   ]
  },
  {
   "cell_type": "markdown",
   "metadata": {},
   "source": [
    "Среднее кол-во обзоров пользователей, которые поставили более чем по 50 оценок равно 24."
   ]
  },
  {
   "cell_type": "markdown",
   "metadata": {},
   "source": []
  },
  {
   "cell_type": "markdown",
   "metadata": {},
   "source": [
    "### Общий вывод:"
   ]
  },
  {
   "cell_type": "markdown",
   "metadata": {},
   "source": [
    "**Итоговые наблюдения:**\n",
    "\n",
    "Оценки и рейтинги:\n",
    "\n",
    "* Максимальное кол-во обзоров у книги Twilight (Twilight #1) - 7, затем следует множество книг с количеством обзоров - 6,\n",
    "75% книг имеет 2 или больше оценки\n",
    "\n",
    "\n",
    "* 50% книг имеют оценку в диапазоне 3.5 - 4.3.\n",
    "\n",
    "Издательства:\n",
    "\n",
    "* Издательство Penguin Books - выпустило наибольше число книг в кол-ве 42 книг, толще 50 страниц, затем следуют издательства Vintage (31) и Grand Central Publishing (25)\n",
    "* Как миниму 50% издательств выпустило всего по 1 книге больше 50 страниц. Около 25% издательств выпустило 3 и более книги толще 50 страниц.\n",
    "\n",
    "Авторы:\n",
    "\n",
    "Cамая высокая средняя оценка у автора J.K. Rowling/Mary GrandPré (4.2838), далее Markus Zusak/Cao Xuân Việt Khương (4.264) и J.R.R. Tolkien (4.258)\n",
    "\n",
    "\n",
    "**Рекомендации:**\n",
    "\n",
    "После короткого анализа, можно сделать ряд рекомендаций, в какую сторону смотреть для развития нашего продукта\n",
    "\n",
    "Стоит обратить внимание на книги, которые:\n",
    "* имеют 2 и более оценки\n",
    "* авторы которых, имеют средний рейтинг больше 4\n",
    "\n",
    "Для некоторых из этих книг, можно устроить промо, прослушать/прочитать книгу без подписки. Это поможет пользователям проявить больше лояльности, и осесть в нашем приложение, став платящим клиентом\n",
    "\n",
    "Также стоит обратить внимание на самые крупные издательства, возможно с ними можно организовать сотруднечество для перевода/озвучивания книг"
   ]
  }
 ],
 "metadata": {
  "ExecuteTimeLog": [
   {
    "duration": 330,
    "start_time": "2022-02-16T16:15:27.025Z"
   },
   {
    "duration": 101,
    "start_time": "2022-02-16T16:15:36.991Z"
   },
   {
    "duration": 823,
    "start_time": "2022-02-16T16:15:42.960Z"
   },
   {
    "duration": 190,
    "start_time": "2022-02-16T16:15:50.277Z"
   },
   {
    "duration": 353,
    "start_time": "2022-02-16T16:16:10.466Z"
   },
   {
    "duration": 27,
    "start_time": "2022-02-16T16:16:36.472Z"
   },
   {
    "duration": 33,
    "start_time": "2022-02-16T16:17:02.921Z"
   },
   {
    "duration": 5,
    "start_time": "2022-02-16T16:22:02.771Z"
   },
   {
    "duration": 32,
    "start_time": "2022-02-16T16:28:19.925Z"
   },
   {
    "duration": 5,
    "start_time": "2022-02-16T16:28:45.328Z"
   },
   {
    "duration": 48,
    "start_time": "2022-02-16T16:30:03.635Z"
   },
   {
    "duration": 46,
    "start_time": "2022-02-16T16:33:05.013Z"
   },
   {
    "duration": 86,
    "start_time": "2022-02-16T16:43:10.133Z"
   },
   {
    "duration": 6972,
    "start_time": "2022-02-16T16:43:16.432Z"
   },
   {
    "duration": -12,
    "start_time": "2022-02-16T16:43:23.421Z"
   },
   {
    "duration": 11,
    "start_time": "2022-02-16T16:45:17.706Z"
   },
   {
    "duration": 23,
    "start_time": "2022-02-16T16:45:53.864Z"
   },
   {
    "duration": 31,
    "start_time": "2022-02-16T16:45:55.601Z"
   },
   {
    "duration": 86,
    "start_time": "2022-02-16T16:47:59.026Z"
   },
   {
    "duration": 96,
    "start_time": "2022-02-16T16:50:49.606Z"
   },
   {
    "duration": 93,
    "start_time": "2022-02-16T16:50:51.065Z"
   },
   {
    "duration": 90,
    "start_time": "2022-02-16T16:50:51.975Z"
   },
   {
    "duration": 78,
    "start_time": "2022-02-16T16:51:26.642Z"
   },
   {
    "duration": 74,
    "start_time": "2022-02-16T16:55:14.864Z"
   },
   {
    "duration": 87,
    "start_time": "2022-02-16T16:55:54.736Z"
   },
   {
    "duration": 85,
    "start_time": "2022-02-16T17:06:31.251Z"
   },
   {
    "duration": 75,
    "start_time": "2022-02-16T17:09:34.263Z"
   },
   {
    "duration": 9,
    "start_time": "2022-02-16T17:10:42.571Z"
   },
   {
    "duration": 317,
    "start_time": "2022-02-16T17:17:31.052Z"
   },
   {
    "duration": 279,
    "start_time": "2022-02-16T17:17:37.019Z"
   },
   {
    "duration": 9,
    "start_time": "2022-02-16T17:17:43.797Z"
   },
   {
    "duration": 324,
    "start_time": "2022-02-16T17:18:26.935Z"
   },
   {
    "duration": 370,
    "start_time": "2022-02-16T17:18:41.984Z"
   },
   {
    "duration": 8,
    "start_time": "2022-02-16T17:19:19.326Z"
   },
   {
    "duration": 61,
    "start_time": "2022-02-16T17:20:19.427Z"
   },
   {
    "duration": 23,
    "start_time": "2022-02-16T17:34:35.950Z"
   },
   {
    "duration": 22,
    "start_time": "2022-02-16T17:36:56.716Z"
   },
   {
    "duration": 57,
    "start_time": "2022-02-16T17:37:15.048Z"
   },
   {
    "duration": 22,
    "start_time": "2022-02-16T17:38:07.175Z"
   },
   {
    "duration": 59,
    "start_time": "2022-02-16T17:38:11.723Z"
   },
   {
    "duration": 5,
    "start_time": "2022-02-16T17:47:45.572Z"
   },
   {
    "duration": 773,
    "start_time": "2022-02-16T17:48:13.530Z"
   },
   {
    "duration": 187,
    "start_time": "2022-02-16T17:48:14.305Z"
   },
   {
    "duration": 27,
    "start_time": "2022-02-16T17:48:14.496Z"
   },
   {
    "duration": 33,
    "start_time": "2022-02-16T17:48:14.534Z"
   },
   {
    "duration": 5,
    "start_time": "2022-02-16T17:48:14.569Z"
   },
   {
    "duration": 7,
    "start_time": "2022-02-16T17:48:14.577Z"
   },
   {
    "duration": 68,
    "start_time": "2022-02-16T17:48:14.586Z"
   },
   {
    "duration": 5,
    "start_time": "2022-02-16T17:48:14.658Z"
   },
   {
    "duration": 33,
    "start_time": "2022-02-16T17:48:14.666Z"
   },
   {
    "duration": 48,
    "start_time": "2022-02-16T17:48:14.701Z"
   },
   {
    "duration": 34,
    "start_time": "2022-02-16T17:48:14.752Z"
   },
   {
    "duration": 99,
    "start_time": "2022-02-16T17:48:14.789Z"
   },
   {
    "duration": 112,
    "start_time": "2022-02-16T17:48:14.891Z"
   },
   {
    "duration": 88,
    "start_time": "2022-02-16T17:48:15.006Z"
   },
   {
    "duration": 71,
    "start_time": "2022-02-16T17:48:15.097Z"
   },
   {
    "duration": 24,
    "start_time": "2022-02-16T17:48:15.171Z"
   },
   {
    "duration": 49,
    "start_time": "2022-02-16T17:48:15.198Z"
   },
   {
    "duration": 58,
    "start_time": "2022-02-16T17:48:15.250Z"
   },
   {
    "duration": 3,
    "start_time": "2022-02-16T17:48:15.331Z"
   },
   {
    "duration": 6,
    "start_time": "2022-02-16T17:48:15.337Z"
   },
   {
    "duration": 5,
    "start_time": "2022-02-16T17:48:15.346Z"
   },
   {
    "duration": 6,
    "start_time": "2022-02-16T17:48:15.354Z"
   },
   {
    "duration": 3,
    "start_time": "2022-02-16T17:48:15.367Z"
   },
   {
    "duration": 11,
    "start_time": "2022-02-16T17:48:15.374Z"
   },
   {
    "duration": 4,
    "start_time": "2022-02-16T17:48:15.388Z"
   },
   {
    "duration": 5,
    "start_time": "2022-02-16T17:48:15.433Z"
   },
   {
    "duration": 10,
    "start_time": "2022-02-16T17:48:15.440Z"
   },
   {
    "duration": 7,
    "start_time": "2022-02-16T17:48:15.452Z"
   },
   {
    "duration": 5,
    "start_time": "2022-02-16T17:48:15.461Z"
   },
   {
    "duration": 6,
    "start_time": "2022-02-16T17:48:15.468Z"
   },
   {
    "duration": 5,
    "start_time": "2022-02-16T17:48:15.476Z"
   },
   {
    "duration": 9,
    "start_time": "2022-02-16T17:48:15.483Z"
   },
   {
    "duration": 38,
    "start_time": "2022-02-16T17:48:15.494Z"
   },
   {
    "duration": 7,
    "start_time": "2022-02-16T17:48:15.535Z"
   },
   {
    "duration": 7,
    "start_time": "2022-02-16T17:48:15.544Z"
   },
   {
    "duration": 6,
    "start_time": "2022-02-16T17:48:15.553Z"
   },
   {
    "duration": 5,
    "start_time": "2022-02-16T17:48:15.562Z"
   },
   {
    "duration": 5,
    "start_time": "2022-02-16T17:48:15.569Z"
   },
   {
    "duration": 4,
    "start_time": "2022-02-16T17:48:15.576Z"
   },
   {
    "duration": 16,
    "start_time": "2022-02-16T17:53:41.210Z"
   },
   {
    "duration": 15,
    "start_time": "2022-02-16T17:57:38.087Z"
   },
   {
    "duration": 130,
    "start_time": "2022-02-16T18:20:36.613Z"
   },
   {
    "duration": 97,
    "start_time": "2022-02-16T18:21:03.683Z"
   },
   {
    "duration": 161,
    "start_time": "2022-02-16T18:21:12.097Z"
   },
   {
    "duration": 96,
    "start_time": "2022-02-16T18:21:51.212Z"
   },
   {
    "duration": 115,
    "start_time": "2022-02-16T18:22:48.068Z"
   },
   {
    "duration": 141,
    "start_time": "2022-02-16T18:26:45.611Z"
   },
   {
    "duration": 94,
    "start_time": "2022-02-16T18:27:08.876Z"
   },
   {
    "duration": 15,
    "start_time": "2022-02-16T18:27:19.124Z"
   },
   {
    "duration": 77,
    "start_time": "2022-02-16T18:31:52.721Z"
   },
   {
    "duration": 75,
    "start_time": "2022-02-16T18:32:03.444Z"
   },
   {
    "duration": 383,
    "start_time": "2022-02-16T18:32:22.607Z"
   },
   {
    "duration": 114,
    "start_time": "2022-02-16T18:32:46.640Z"
   },
   {
    "duration": 75,
    "start_time": "2022-02-16T18:33:09.155Z"
   },
   {
    "duration": 15,
    "start_time": "2022-02-16T18:33:20.346Z"
   },
   {
    "duration": 22,
    "start_time": "2022-02-16T18:34:54.094Z"
   },
   {
    "duration": 22,
    "start_time": "2022-02-16T18:35:06.738Z"
   },
   {
    "duration": 101,
    "start_time": "2022-02-16T18:35:18.040Z"
   },
   {
    "duration": 92,
    "start_time": "2022-02-16T18:35:32.099Z"
   },
   {
    "duration": 14,
    "start_time": "2022-02-16T18:35:49.023Z"
   },
   {
    "duration": 89,
    "start_time": "2022-02-16T18:44:46.056Z"
   },
   {
    "duration": 370,
    "start_time": "2022-02-16T18:44:57.057Z"
   },
   {
    "duration": 15,
    "start_time": "2022-02-16T18:45:08.962Z"
   },
   {
    "duration": 271,
    "start_time": "2022-02-17T17:27:37.728Z"
   },
   {
    "duration": 653,
    "start_time": "2022-02-17T17:28:13.862Z"
   },
   {
    "duration": 155,
    "start_time": "2022-02-17T17:28:14.517Z"
   },
   {
    "duration": 19,
    "start_time": "2022-02-17T17:28:14.674Z"
   },
   {
    "duration": 37,
    "start_time": "2022-02-17T17:28:14.695Z"
   },
   {
    "duration": 5,
    "start_time": "2022-02-17T17:28:14.734Z"
   },
   {
    "duration": 25,
    "start_time": "2022-02-17T17:28:14.741Z"
   },
   {
    "duration": 41,
    "start_time": "2022-02-17T17:28:14.770Z"
   },
   {
    "duration": 4,
    "start_time": "2022-02-17T17:28:14.815Z"
   },
   {
    "duration": 63,
    "start_time": "2022-02-17T17:28:14.821Z"
   },
   {
    "duration": 51,
    "start_time": "2022-02-17T17:28:14.887Z"
   },
   {
    "duration": 61,
    "start_time": "2022-02-17T17:28:14.940Z"
   },
   {
    "duration": 99,
    "start_time": "2022-02-17T17:28:15.004Z"
   },
   {
    "duration": 94,
    "start_time": "2022-02-17T17:28:15.105Z"
   },
   {
    "duration": 68,
    "start_time": "2022-02-17T17:28:15.201Z"
   },
   {
    "duration": 48,
    "start_time": "2022-02-17T17:28:15.271Z"
   },
   {
    "duration": 18,
    "start_time": "2022-02-17T17:28:15.321Z"
   },
   {
    "duration": 37,
    "start_time": "2022-02-17T17:28:15.341Z"
   },
   {
    "duration": 43,
    "start_time": "2022-02-17T17:28:15.380Z"
   },
   {
    "duration": 12,
    "start_time": "2022-02-17T17:28:15.425Z"
   },
   {
    "duration": 32,
    "start_time": "2022-02-17T17:28:15.439Z"
   },
   {
    "duration": 3,
    "start_time": "2022-02-17T17:28:15.473Z"
   },
   {
    "duration": 30,
    "start_time": "2022-02-17T17:28:15.478Z"
   },
   {
    "duration": 20,
    "start_time": "2022-02-17T17:28:15.512Z"
   },
   {
    "duration": 44,
    "start_time": "2022-02-17T17:28:15.534Z"
   },
   {
    "duration": 14,
    "start_time": "2022-02-17T17:28:15.580Z"
   },
   {
    "duration": 21,
    "start_time": "2022-02-17T17:28:15.596Z"
   },
   {
    "duration": 15,
    "start_time": "2022-02-17T17:28:15.620Z"
   },
   {
    "duration": 37,
    "start_time": "2022-02-17T17:28:15.637Z"
   },
   {
    "duration": 27,
    "start_time": "2022-02-17T17:28:15.676Z"
   },
   {
    "duration": 11,
    "start_time": "2022-02-17T17:28:15.705Z"
   },
   {
    "duration": 6,
    "start_time": "2022-02-17T17:28:15.718Z"
   },
   {
    "duration": 46,
    "start_time": "2022-02-17T17:28:15.726Z"
   },
   {
    "duration": 20,
    "start_time": "2022-02-17T17:28:15.773Z"
   },
   {
    "duration": 34,
    "start_time": "2022-02-17T17:28:15.796Z"
   },
   {
    "duration": 48,
    "start_time": "2022-02-17T17:28:15.832Z"
   },
   {
    "duration": 54,
    "start_time": "2022-02-17T17:28:15.882Z"
   },
   {
    "duration": 12,
    "start_time": "2022-02-17T17:28:15.938Z"
   },
   {
    "duration": 29,
    "start_time": "2022-02-17T17:28:15.970Z"
   },
   {
    "duration": 12,
    "start_time": "2022-02-17T17:28:16.002Z"
   },
   {
    "duration": 14,
    "start_time": "2022-02-17T17:28:42.941Z"
   },
   {
    "duration": 23,
    "start_time": "2022-02-17T17:28:48.280Z"
   },
   {
    "duration": 612,
    "start_time": "2022-02-17T17:28:56.480Z"
   },
   {
    "duration": 153,
    "start_time": "2022-02-17T17:28:57.094Z"
   },
   {
    "duration": 22,
    "start_time": "2022-02-17T17:28:57.250Z"
   },
   {
    "duration": 29,
    "start_time": "2022-02-17T17:28:57.274Z"
   },
   {
    "duration": 4,
    "start_time": "2022-02-17T17:28:57.306Z"
   },
   {
    "duration": 6,
    "start_time": "2022-02-17T17:28:57.311Z"
   },
   {
    "duration": 54,
    "start_time": "2022-02-17T17:28:57.319Z"
   },
   {
    "duration": 3,
    "start_time": "2022-02-17T17:28:57.376Z"
   },
   {
    "duration": 28,
    "start_time": "2022-02-17T17:28:57.382Z"
   },
   {
    "duration": 17,
    "start_time": "2022-02-17T17:28:57.413Z"
   },
   {
    "duration": 47,
    "start_time": "2022-02-17T17:28:57.432Z"
   },
   {
    "duration": 63,
    "start_time": "2022-02-17T17:28:57.482Z"
   },
   {
    "duration": 86,
    "start_time": "2022-02-17T17:28:57.547Z"
   },
   {
    "duration": 68,
    "start_time": "2022-02-17T17:28:57.635Z"
   },
   {
    "duration": 45,
    "start_time": "2022-02-17T17:28:57.705Z"
   },
   {
    "duration": 32,
    "start_time": "2022-02-17T17:28:57.752Z"
   },
   {
    "duration": 20,
    "start_time": "2022-02-17T17:28:57.786Z"
   },
   {
    "duration": 64,
    "start_time": "2022-02-17T17:28:57.809Z"
   },
   {
    "duration": 12,
    "start_time": "2022-02-17T17:28:57.874Z"
   },
   {
    "duration": 12,
    "start_time": "2022-02-17T17:28:57.887Z"
   },
   {
    "duration": 4,
    "start_time": "2022-02-17T17:28:57.900Z"
   },
   {
    "duration": 22,
    "start_time": "2022-02-17T17:28:57.906Z"
   },
   {
    "duration": 44,
    "start_time": "2022-02-17T17:28:57.932Z"
   },
   {
    "duration": 18,
    "start_time": "2022-02-17T17:28:57.979Z"
   },
   {
    "duration": 15,
    "start_time": "2022-02-17T17:28:57.999Z"
   },
   {
    "duration": 19,
    "start_time": "2022-02-17T17:28:58.016Z"
   },
   {
    "duration": 52,
    "start_time": "2022-02-17T17:28:58.037Z"
   },
   {
    "duration": 9,
    "start_time": "2022-02-17T17:28:58.091Z"
   },
   {
    "duration": 21,
    "start_time": "2022-02-17T17:28:58.102Z"
   },
   {
    "duration": 14,
    "start_time": "2022-02-17T17:28:58.125Z"
   },
   {
    "duration": 32,
    "start_time": "2022-02-17T17:28:58.141Z"
   },
   {
    "duration": 47,
    "start_time": "2022-02-17T17:28:58.175Z"
   },
   {
    "duration": 19,
    "start_time": "2022-02-17T17:28:58.224Z"
   },
   {
    "duration": 52,
    "start_time": "2022-02-17T17:28:58.244Z"
   },
   {
    "duration": 20,
    "start_time": "2022-02-17T17:28:58.298Z"
   },
   {
    "duration": 79,
    "start_time": "2022-02-17T17:28:58.320Z"
   },
   {
    "duration": 13,
    "start_time": "2022-02-17T17:28:58.401Z"
   },
   {
    "duration": 31,
    "start_time": "2022-02-17T17:28:58.415Z"
   },
   {
    "duration": 29,
    "start_time": "2022-02-17T17:28:58.448Z"
   },
   {
    "duration": 15,
    "start_time": "2022-02-17T17:30:17.625Z"
   },
   {
    "duration": 10,
    "start_time": "2022-02-17T17:30:19.007Z"
   },
   {
    "duration": 4,
    "start_time": "2022-02-17T17:30:23.667Z"
   },
   {
    "duration": 31,
    "start_time": "2022-02-17T17:30:25.797Z"
   },
   {
    "duration": 19,
    "start_time": "2022-02-17T17:30:28.759Z"
   },
   {
    "duration": 32,
    "start_time": "2022-02-17T17:30:31.415Z"
   },
   {
    "duration": 20,
    "start_time": "2022-02-17T17:30:33.530Z"
   },
   {
    "duration": 58,
    "start_time": "2022-02-17T17:30:39.871Z"
   },
   {
    "duration": 12,
    "start_time": "2022-02-17T17:31:13.294Z"
   },
   {
    "duration": 12,
    "start_time": "2022-02-17T17:31:14.499Z"
   },
   {
    "duration": 63,
    "start_time": "2022-02-17T17:31:15.476Z"
   },
   {
    "duration": 12,
    "start_time": "2022-02-17T17:31:24.492Z"
   },
   {
    "duration": 61,
    "start_time": "2022-02-17T17:31:31.214Z"
   },
   {
    "duration": 425,
    "start_time": "2022-02-17T17:32:07.734Z"
   },
   {
    "duration": 12,
    "start_time": "2022-02-17T17:32:37.283Z"
   },
   {
    "duration": 5,
    "start_time": "2022-02-17T17:32:40.246Z"
   },
   {
    "duration": 8,
    "start_time": "2022-02-17T17:33:20.215Z"
   },
   {
    "duration": 5,
    "start_time": "2022-02-17T17:33:24.242Z"
   },
   {
    "duration": 5,
    "start_time": "2022-02-17T17:42:04.470Z"
   },
   {
    "duration": 21,
    "start_time": "2022-02-17T17:42:07.713Z"
   },
   {
    "duration": 5,
    "start_time": "2022-02-17T17:42:15.520Z"
   },
   {
    "duration": 20,
    "start_time": "2022-02-17T17:42:19.350Z"
   },
   {
    "duration": 15,
    "start_time": "2022-02-17T17:42:21.329Z"
   },
   {
    "duration": 18,
    "start_time": "2022-02-17T17:42:24.202Z"
   },
   {
    "duration": 14,
    "start_time": "2022-02-17T17:42:26.304Z"
   },
   {
    "duration": 5,
    "start_time": "2022-02-17T17:42:30.518Z"
   },
   {
    "duration": 8,
    "start_time": "2022-02-17T17:42:34.732Z"
   },
   {
    "duration": 5,
    "start_time": "2022-02-17T17:42:36.702Z"
   },
   {
    "duration": 618,
    "start_time": "2022-02-17T17:44:34.504Z"
   },
   {
    "duration": 170,
    "start_time": "2022-02-17T17:44:35.125Z"
   },
   {
    "duration": 19,
    "start_time": "2022-02-17T17:44:35.297Z"
   },
   {
    "duration": 28,
    "start_time": "2022-02-17T17:44:35.318Z"
   },
   {
    "duration": 3,
    "start_time": "2022-02-17T17:44:35.348Z"
   },
   {
    "duration": 5,
    "start_time": "2022-02-17T17:44:35.369Z"
   },
   {
    "duration": 35,
    "start_time": "2022-02-17T17:44:35.376Z"
   },
   {
    "duration": 7,
    "start_time": "2022-02-17T17:44:35.414Z"
   },
   {
    "duration": 45,
    "start_time": "2022-02-17T17:44:35.424Z"
   },
   {
    "duration": 24,
    "start_time": "2022-02-17T17:44:35.472Z"
   },
   {
    "duration": 25,
    "start_time": "2022-02-17T17:44:35.498Z"
   },
   {
    "duration": 95,
    "start_time": "2022-02-17T17:44:35.525Z"
   },
   {
    "duration": 92,
    "start_time": "2022-02-17T17:44:35.622Z"
   },
   {
    "duration": 65,
    "start_time": "2022-02-17T17:44:35.717Z"
   },
   {
    "duration": 42,
    "start_time": "2022-02-17T17:44:35.785Z"
   },
   {
    "duration": 16,
    "start_time": "2022-02-17T17:44:35.829Z"
   },
   {
    "duration": 42,
    "start_time": "2022-02-17T17:44:35.846Z"
   },
   {
    "duration": 43,
    "start_time": "2022-02-17T17:44:35.890Z"
   },
   {
    "duration": 35,
    "start_time": "2022-02-17T17:44:35.936Z"
   },
   {
    "duration": 15,
    "start_time": "2022-02-17T17:44:35.974Z"
   },
   {
    "duration": 4,
    "start_time": "2022-02-17T17:44:35.990Z"
   },
   {
    "duration": 20,
    "start_time": "2022-02-17T17:44:35.996Z"
   },
   {
    "duration": 15,
    "start_time": "2022-02-17T17:44:36.020Z"
   },
   {
    "duration": 53,
    "start_time": "2022-02-17T17:44:36.038Z"
   },
   {
    "duration": 15,
    "start_time": "2022-02-17T17:44:36.093Z"
   },
   {
    "duration": 15,
    "start_time": "2022-02-17T17:44:36.110Z"
   },
   {
    "duration": 52,
    "start_time": "2022-02-17T17:44:36.127Z"
   },
   {
    "duration": 7,
    "start_time": "2022-02-17T17:44:36.183Z"
   },
   {
    "duration": 15,
    "start_time": "2022-02-17T17:44:36.192Z"
   },
   {
    "duration": 10,
    "start_time": "2022-02-17T17:44:36.209Z"
   },
   {
    "duration": 6,
    "start_time": "2022-02-17T17:44:36.220Z"
   },
   {
    "duration": 41,
    "start_time": "2022-02-17T17:44:36.228Z"
   },
   {
    "duration": 21,
    "start_time": "2022-02-17T17:44:36.272Z"
   },
   {
    "duration": 19,
    "start_time": "2022-02-17T17:44:36.295Z"
   },
   {
    "duration": 13,
    "start_time": "2022-02-17T17:44:36.316Z"
   },
   {
    "duration": 48,
    "start_time": "2022-02-17T17:44:36.331Z"
   },
   {
    "duration": 5,
    "start_time": "2022-02-17T17:44:36.381Z"
   },
   {
    "duration": 9,
    "start_time": "2022-02-17T17:44:36.388Z"
   },
   {
    "duration": 5,
    "start_time": "2022-02-17T17:44:36.398Z"
   },
   {
    "duration": 289,
    "start_time": "2022-02-26T17:39:34.911Z"
   },
   {
    "duration": 225,
    "start_time": "2022-02-26T17:39:41.479Z"
   },
   {
    "duration": 251,
    "start_time": "2022-02-26T17:40:01.142Z"
   },
   {
    "duration": 1893,
    "start_time": "2022-02-26T17:40:21.405Z"
   },
   {
    "duration": 261,
    "start_time": "2022-02-26T17:41:55.783Z"
   },
   {
    "duration": 585,
    "start_time": "2022-02-26T17:42:04.222Z"
   },
   {
    "duration": 159,
    "start_time": "2022-02-26T17:42:04.809Z"
   },
   {
    "duration": 18,
    "start_time": "2022-02-26T17:42:04.973Z"
   },
   {
    "duration": 25,
    "start_time": "2022-02-26T17:42:04.993Z"
   },
   {
    "duration": 9,
    "start_time": "2022-02-26T17:42:05.020Z"
   },
   {
    "duration": 23,
    "start_time": "2022-02-26T17:42:05.031Z"
   },
   {
    "duration": 24,
    "start_time": "2022-02-26T17:42:05.057Z"
   },
   {
    "duration": 27,
    "start_time": "2022-02-26T17:42:05.083Z"
   },
   {
    "duration": 16,
    "start_time": "2022-02-26T17:42:05.112Z"
   },
   {
    "duration": 46,
    "start_time": "2022-02-26T17:42:05.131Z"
   },
   {
    "duration": 61,
    "start_time": "2022-02-26T17:42:05.179Z"
   },
   {
    "duration": 92,
    "start_time": "2022-02-26T17:42:05.242Z"
   },
   {
    "duration": 58,
    "start_time": "2022-02-26T17:42:05.336Z"
   },
   {
    "duration": 44,
    "start_time": "2022-02-26T17:42:05.396Z"
   },
   {
    "duration": 38,
    "start_time": "2022-02-26T17:42:05.442Z"
   },
   {
    "duration": 19,
    "start_time": "2022-02-26T17:42:05.482Z"
   },
   {
    "duration": 44,
    "start_time": "2022-02-26T17:42:05.503Z"
   },
   {
    "duration": 33,
    "start_time": "2022-02-26T17:42:05.549Z"
   },
   {
    "duration": 10,
    "start_time": "2022-02-26T17:42:05.584Z"
   },
   {
    "duration": 3,
    "start_time": "2022-02-26T17:42:05.596Z"
   },
   {
    "duration": 21,
    "start_time": "2022-02-26T17:42:05.601Z"
   },
   {
    "duration": 14,
    "start_time": "2022-02-26T17:42:05.626Z"
   },
   {
    "duration": 42,
    "start_time": "2022-02-26T17:42:05.642Z"
   },
   {
    "duration": 51,
    "start_time": "2022-02-26T17:42:05.686Z"
   },
   {
    "duration": 27,
    "start_time": "2022-02-26T17:42:05.738Z"
   },
   {
    "duration": 20,
    "start_time": "2022-02-26T17:42:05.767Z"
   },
   {
    "duration": 31,
    "start_time": "2022-02-26T17:42:05.789Z"
   },
   {
    "duration": 25,
    "start_time": "2022-02-26T17:42:05.822Z"
   },
   {
    "duration": 28,
    "start_time": "2022-02-26T17:42:05.848Z"
   },
   {
    "duration": 31,
    "start_time": "2022-02-26T17:42:05.878Z"
   },
   {
    "duration": 44,
    "start_time": "2022-02-26T17:42:05.911Z"
   },
   {
    "duration": 34,
    "start_time": "2022-02-26T17:42:05.957Z"
   },
   {
    "duration": 27,
    "start_time": "2022-02-26T17:42:05.993Z"
   },
   {
    "duration": 15,
    "start_time": "2022-02-26T17:42:06.022Z"
   },
   {
    "duration": 18,
    "start_time": "2022-02-26T17:42:06.039Z"
   },
   {
    "duration": 21,
    "start_time": "2022-02-26T17:42:06.059Z"
   },
   {
    "duration": 11,
    "start_time": "2022-02-26T17:42:06.081Z"
   },
   {
    "duration": 14,
    "start_time": "2022-02-26T17:42:06.093Z"
   },
   {
    "duration": 42,
    "start_time": "2022-02-26T17:46:55.439Z"
   },
   {
    "duration": 11,
    "start_time": "2022-02-26T17:48:40.929Z"
   },
   {
    "duration": 11,
    "start_time": "2022-02-26T17:51:12.526Z"
   },
   {
    "duration": 4,
    "start_time": "2022-02-26T17:54:37.282Z"
   },
   {
    "duration": 638,
    "start_time": "2022-02-26T17:55:40.563Z"
   },
   {
    "duration": 146,
    "start_time": "2022-02-26T17:55:41.204Z"
   },
   {
    "duration": 17,
    "start_time": "2022-02-26T17:55:41.352Z"
   },
   {
    "duration": 37,
    "start_time": "2022-02-26T17:55:41.371Z"
   },
   {
    "duration": 21,
    "start_time": "2022-02-26T17:55:41.409Z"
   },
   {
    "duration": 31,
    "start_time": "2022-02-26T17:55:41.432Z"
   },
   {
    "duration": 21,
    "start_time": "2022-02-26T17:55:41.465Z"
   },
   {
    "duration": 34,
    "start_time": "2022-02-26T17:55:41.488Z"
   },
   {
    "duration": 38,
    "start_time": "2022-02-26T17:55:41.525Z"
   },
   {
    "duration": 40,
    "start_time": "2022-02-26T17:55:41.565Z"
   },
   {
    "duration": 81,
    "start_time": "2022-02-26T17:55:41.607Z"
   },
   {
    "duration": 70,
    "start_time": "2022-02-26T17:55:41.690Z"
   },
   {
    "duration": 61,
    "start_time": "2022-02-26T17:55:41.762Z"
   },
   {
    "duration": 63,
    "start_time": "2022-02-26T17:55:41.825Z"
   },
   {
    "duration": 16,
    "start_time": "2022-02-26T17:55:41.890Z"
   },
   {
    "duration": 21,
    "start_time": "2022-02-26T17:55:41.908Z"
   },
   {
    "duration": 57,
    "start_time": "2022-02-26T17:55:41.931Z"
   },
   {
    "duration": 25,
    "start_time": "2022-02-26T17:55:41.990Z"
   },
   {
    "duration": 16,
    "start_time": "2022-02-26T17:55:42.017Z"
   },
   {
    "duration": 26,
    "start_time": "2022-02-26T17:55:42.035Z"
   },
   {
    "duration": 37,
    "start_time": "2022-02-26T17:55:42.063Z"
   },
   {
    "duration": 26,
    "start_time": "2022-02-26T17:55:42.101Z"
   },
   {
    "duration": 24,
    "start_time": "2022-02-26T17:55:42.130Z"
   },
   {
    "duration": 26,
    "start_time": "2022-02-26T17:55:42.156Z"
   },
   {
    "duration": 21,
    "start_time": "2022-02-26T17:55:42.184Z"
   },
   {
    "duration": 19,
    "start_time": "2022-02-26T17:55:42.207Z"
   },
   {
    "duration": 13,
    "start_time": "2022-02-26T17:55:42.227Z"
   },
   {
    "duration": 30,
    "start_time": "2022-02-26T17:55:42.242Z"
   },
   {
    "duration": 22,
    "start_time": "2022-02-26T17:55:42.273Z"
   },
   {
    "duration": 16,
    "start_time": "2022-02-26T17:55:42.297Z"
   },
   {
    "duration": 40,
    "start_time": "2022-02-26T17:55:42.314Z"
   },
   {
    "duration": 12,
    "start_time": "2022-02-26T17:55:42.356Z"
   },
   {
    "duration": 24,
    "start_time": "2022-02-26T17:55:42.370Z"
   },
   {
    "duration": 11,
    "start_time": "2022-02-26T17:55:42.396Z"
   },
   {
    "duration": 9,
    "start_time": "2022-02-26T17:55:42.409Z"
   },
   {
    "duration": 16,
    "start_time": "2022-02-26T17:55:42.419Z"
   },
   {
    "duration": 9,
    "start_time": "2022-02-26T17:55:42.437Z"
   },
   {
    "duration": 14,
    "start_time": "2022-02-26T17:55:42.447Z"
   },
   {
    "duration": 327,
    "start_time": "2022-02-27T07:33:29.728Z"
   },
   {
    "duration": 524,
    "start_time": "2022-08-16T06:12:59.435Z"
   },
   {
    "duration": 4,
    "start_time": "2022-08-16T06:12:59.961Z"
   },
   {
    "duration": 10,
    "start_time": "2022-08-16T06:12:59.966Z"
   },
   {
    "duration": 5704,
    "start_time": "2022-08-16T06:12:59.978Z"
   },
   {
    "duration": 3,
    "start_time": "2022-08-16T06:13:05.684Z"
   },
   {
    "duration": 21,
    "start_time": "2022-08-16T06:13:05.688Z"
   },
   {
    "duration": 319,
    "start_time": "2022-08-16T06:13:05.711Z"
   },
   {
    "duration": 113,
    "start_time": "2022-08-16T06:13:06.032Z"
   },
   {
    "duration": 80,
    "start_time": "2022-08-16T06:13:06.146Z"
   },
   {
    "duration": 79,
    "start_time": "2022-08-16T06:13:06.229Z"
   },
   {
    "duration": 3,
    "start_time": "2022-08-16T06:13:06.310Z"
   },
   {
    "duration": 95,
    "start_time": "2022-08-16T06:13:06.314Z"
   },
   {
    "duration": 92,
    "start_time": "2022-08-16T06:13:06.411Z"
   },
   {
    "duration": 76,
    "start_time": "2022-08-16T06:13:06.505Z"
   },
   {
    "duration": 77,
    "start_time": "2022-08-16T06:13:06.582Z"
   },
   {
    "duration": 2,
    "start_time": "2022-08-16T06:13:06.660Z"
   },
   {
    "duration": 96,
    "start_time": "2022-08-16T06:13:06.664Z"
   },
   {
    "duration": 80,
    "start_time": "2022-08-16T06:13:06.762Z"
   },
   {
    "duration": 76,
    "start_time": "2022-08-16T06:13:06.844Z"
   },
   {
    "duration": 79,
    "start_time": "2022-08-16T06:13:06.922Z"
   },
   {
    "duration": 3,
    "start_time": "2022-08-16T06:13:07.003Z"
   },
   {
    "duration": 116,
    "start_time": "2022-08-16T06:13:07.008Z"
   },
   {
    "duration": 103,
    "start_time": "2022-08-16T06:13:07.126Z"
   },
   {
    "duration": 135,
    "start_time": "2022-08-16T06:13:07.232Z"
   },
   {
    "duration": 89,
    "start_time": "2022-08-16T06:13:07.368Z"
   },
   {
    "duration": 2,
    "start_time": "2022-08-16T06:13:07.459Z"
   },
   {
    "duration": 98,
    "start_time": "2022-08-16T06:13:07.463Z"
   },
   {
    "duration": 100,
    "start_time": "2022-08-16T06:13:07.564Z"
   },
   {
    "duration": 83,
    "start_time": "2022-08-16T06:13:07.665Z"
   },
   {
    "duration": 92,
    "start_time": "2022-08-16T06:13:07.750Z"
   },
   {
    "duration": 2,
    "start_time": "2022-08-16T06:13:07.845Z"
   },
   {
    "duration": 84,
    "start_time": "2022-08-16T06:13:07.848Z"
   },
   {
    "duration": 3,
    "start_time": "2022-08-16T06:13:07.933Z"
   },
   {
    "duration": 120,
    "start_time": "2022-08-16T06:13:07.938Z"
   },
   {
    "duration": 3,
    "start_time": "2022-08-16T06:13:08.059Z"
   },
   {
    "duration": 91,
    "start_time": "2022-08-16T06:13:08.063Z"
   },
   {
    "duration": 3,
    "start_time": "2022-08-16T06:13:08.155Z"
   },
   {
    "duration": 90,
    "start_time": "2022-08-16T06:13:08.160Z"
   },
   {
    "duration": 5,
    "start_time": "2022-08-16T06:13:08.252Z"
   },
   {
    "duration": 102,
    "start_time": "2022-08-16T06:13:08.259Z"
   },
   {
    "duration": 518,
    "start_time": "2022-08-17T04:24:06.011Z"
   },
   {
    "duration": 3,
    "start_time": "2022-08-17T04:24:06.531Z"
   },
   {
    "duration": 7,
    "start_time": "2022-08-17T04:24:06.536Z"
   },
   {
    "duration": 9291,
    "start_time": "2022-08-17T04:24:06.545Z"
   },
   {
    "duration": 3,
    "start_time": "2022-08-17T04:24:15.837Z"
   },
   {
    "duration": 19,
    "start_time": "2022-08-17T04:24:15.841Z"
   },
   {
    "duration": 298,
    "start_time": "2022-08-17T04:24:15.861Z"
   },
   {
    "duration": 79,
    "start_time": "2022-08-17T04:24:16.161Z"
   },
   {
    "duration": 75,
    "start_time": "2022-08-17T04:24:16.242Z"
   },
   {
    "duration": 75,
    "start_time": "2022-08-17T04:24:16.321Z"
   },
   {
    "duration": 2,
    "start_time": "2022-08-17T04:24:16.398Z"
   },
   {
    "duration": 89,
    "start_time": "2022-08-17T04:24:16.402Z"
   },
   {
    "duration": 75,
    "start_time": "2022-08-17T04:24:16.493Z"
   },
   {
    "duration": 73,
    "start_time": "2022-08-17T04:24:16.569Z"
   },
   {
    "duration": 72,
    "start_time": "2022-08-17T04:24:16.643Z"
   },
   {
    "duration": 3,
    "start_time": "2022-08-17T04:24:16.716Z"
   },
   {
    "duration": 105,
    "start_time": "2022-08-17T04:24:16.720Z"
   },
   {
    "duration": 76,
    "start_time": "2022-08-17T04:24:16.827Z"
   },
   {
    "duration": 73,
    "start_time": "2022-08-17T04:24:16.905Z"
   },
   {
    "duration": 85,
    "start_time": "2022-08-17T04:24:16.980Z"
   },
   {
    "duration": 3,
    "start_time": "2022-08-17T04:24:17.067Z"
   },
   {
    "duration": 123,
    "start_time": "2022-08-17T04:24:17.071Z"
   },
   {
    "duration": 95,
    "start_time": "2022-08-17T04:24:17.195Z"
   },
   {
    "duration": 129,
    "start_time": "2022-08-17T04:24:17.292Z"
   },
   {
    "duration": 83,
    "start_time": "2022-08-17T04:24:17.422Z"
   },
   {
    "duration": 2,
    "start_time": "2022-08-17T04:24:17.506Z"
   },
   {
    "duration": 99,
    "start_time": "2022-08-17T04:24:17.510Z"
   },
   {
    "duration": 82,
    "start_time": "2022-08-17T04:24:17.612Z"
   },
   {
    "duration": 80,
    "start_time": "2022-08-17T04:24:17.696Z"
   },
   {
    "duration": 83,
    "start_time": "2022-08-17T04:24:17.777Z"
   },
   {
    "duration": 2,
    "start_time": "2022-08-17T04:24:17.862Z"
   },
   {
    "duration": 95,
    "start_time": "2022-08-17T04:24:17.866Z"
   },
   {
    "duration": 3,
    "start_time": "2022-08-17T04:24:17.963Z"
   },
   {
    "duration": 110,
    "start_time": "2022-08-17T04:24:17.967Z"
   },
   {
    "duration": 3,
    "start_time": "2022-08-17T04:24:18.078Z"
   },
   {
    "duration": 81,
    "start_time": "2022-08-17T04:24:18.082Z"
   },
   {
    "duration": 3,
    "start_time": "2022-08-17T04:24:18.165Z"
   },
   {
    "duration": 90,
    "start_time": "2022-08-17T04:24:18.169Z"
   },
   {
    "duration": 2,
    "start_time": "2022-08-17T04:24:18.261Z"
   },
   {
    "duration": 82,
    "start_time": "2022-08-17T04:24:18.264Z"
   },
   {
    "duration": 3,
    "start_time": "2022-08-17T04:24:51.803Z"
   },
   {
    "duration": 115,
    "start_time": "2022-08-17T04:24:54.827Z"
   },
   {
    "duration": 508,
    "start_time": "2022-08-17T05:03:32.366Z"
   },
   {
    "duration": 3,
    "start_time": "2022-08-17T05:03:32.876Z"
   },
   {
    "duration": 7,
    "start_time": "2022-08-17T05:03:32.881Z"
   },
   {
    "duration": 8430,
    "start_time": "2022-08-17T05:03:32.890Z"
   },
   {
    "duration": 3,
    "start_time": "2022-08-17T05:03:41.322Z"
   },
   {
    "duration": 6,
    "start_time": "2022-08-17T05:03:41.327Z"
   },
   {
    "duration": 75,
    "start_time": "2022-08-17T05:03:41.335Z"
   },
   {
    "duration": 18,
    "start_time": "2022-08-17T05:03:41.412Z"
   },
   {
    "duration": 12,
    "start_time": "2022-08-17T05:03:41.432Z"
   },
   {
    "duration": 13,
    "start_time": "2022-08-17T05:03:41.446Z"
   },
   {
    "duration": 2,
    "start_time": "2022-08-17T05:03:41.461Z"
   },
   {
    "duration": 15,
    "start_time": "2022-08-17T05:03:41.464Z"
   },
   {
    "duration": 13,
    "start_time": "2022-08-17T05:03:41.481Z"
   },
   {
    "duration": 10,
    "start_time": "2022-08-17T05:03:41.496Z"
   },
   {
    "duration": 9,
    "start_time": "2022-08-17T05:03:41.507Z"
   },
   {
    "duration": 2,
    "start_time": "2022-08-17T05:03:41.518Z"
   },
   {
    "duration": 13,
    "start_time": "2022-08-17T05:03:41.554Z"
   },
   {
    "duration": 20,
    "start_time": "2022-08-17T05:03:41.569Z"
   },
   {
    "duration": 10,
    "start_time": "2022-08-17T05:03:41.591Z"
   },
   {
    "duration": 10,
    "start_time": "2022-08-17T05:03:41.603Z"
   },
   {
    "duration": 2,
    "start_time": "2022-08-17T05:03:41.615Z"
   },
   {
    "duration": 41,
    "start_time": "2022-08-17T05:03:41.619Z"
   },
   {
    "duration": 27,
    "start_time": "2022-08-17T05:03:41.662Z"
   },
   {
    "duration": 64,
    "start_time": "2022-08-17T05:03:41.691Z"
   },
   {
    "duration": 20,
    "start_time": "2022-08-17T05:03:41.757Z"
   },
   {
    "duration": 2,
    "start_time": "2022-08-17T05:03:41.778Z"
   },
   {
    "duration": 25,
    "start_time": "2022-08-17T05:03:41.782Z"
   },
   {
    "duration": 23,
    "start_time": "2022-08-17T05:03:41.809Z"
   },
   {
    "duration": 23,
    "start_time": "2022-08-17T05:03:41.833Z"
   },
   {
    "duration": 19,
    "start_time": "2022-08-17T05:03:41.857Z"
   },
   {
    "duration": 3,
    "start_time": "2022-08-17T05:03:41.878Z"
   },
   {
    "duration": 14,
    "start_time": "2022-08-17T05:03:41.882Z"
   },
   {
    "duration": 3,
    "start_time": "2022-08-17T05:03:41.897Z"
   },
   {
    "duration": 36,
    "start_time": "2022-08-17T05:03:41.902Z"
   },
   {
    "duration": 2,
    "start_time": "2022-08-17T05:03:41.940Z"
   },
   {
    "duration": 19,
    "start_time": "2022-08-17T05:03:41.944Z"
   },
   {
    "duration": 4,
    "start_time": "2022-08-17T05:03:41.964Z"
   },
   {
    "duration": 28,
    "start_time": "2022-08-17T05:03:41.970Z"
   },
   {
    "duration": 3,
    "start_time": "2022-08-17T05:03:42.000Z"
   },
   {
    "duration": 17,
    "start_time": "2022-08-17T05:03:42.005Z"
   },
   {
    "duration": 2,
    "start_time": "2022-08-17T05:06:19.976Z"
   },
   {
    "duration": 151,
    "start_time": "2022-08-17T05:06:24.078Z"
   },
   {
    "duration": 2,
    "start_time": "2022-08-17T05:06:36.389Z"
   },
   {
    "duration": 36,
    "start_time": "2022-08-17T05:06:37.397Z"
   },
   {
    "duration": 2,
    "start_time": "2022-08-17T05:06:46.109Z"
   },
   {
    "duration": 29,
    "start_time": "2022-08-17T05:06:46.965Z"
   },
   {
    "duration": 2,
    "start_time": "2022-08-17T05:08:16.932Z"
   },
   {
    "duration": 96,
    "start_time": "2022-08-17T05:08:18.664Z"
   },
   {
    "duration": 3,
    "start_time": "2022-08-17T05:08:25.623Z"
   },
   {
    "duration": 135,
    "start_time": "2022-08-17T05:08:27.330Z"
   },
   {
    "duration": 3,
    "start_time": "2022-08-17T05:20:13.879Z"
   },
   {
    "duration": 34,
    "start_time": "2022-08-17T05:20:14.559Z"
   },
   {
    "duration": 3,
    "start_time": "2022-08-17T05:22:15.843Z"
   },
   {
    "duration": 169,
    "start_time": "2022-08-17T05:22:16.900Z"
   },
   {
    "duration": 2,
    "start_time": "2022-08-17T05:23:14.332Z"
   },
   {
    "duration": 33,
    "start_time": "2022-08-17T05:23:15.277Z"
   },
   {
    "duration": 2,
    "start_time": "2022-08-17T05:23:24.853Z"
   },
   {
    "duration": 37,
    "start_time": "2022-08-17T05:23:27.477Z"
   },
   {
    "duration": 3,
    "start_time": "2022-08-17T05:25:15.382Z"
   },
   {
    "duration": 30,
    "start_time": "2022-08-17T05:25:17.015Z"
   },
   {
    "duration": 2,
    "start_time": "2022-08-17T05:26:23.695Z"
   },
   {
    "duration": 96,
    "start_time": "2022-08-17T05:26:24.438Z"
   },
   {
    "duration": 2,
    "start_time": "2022-08-17T05:26:44.397Z"
   },
   {
    "duration": 124,
    "start_time": "2022-08-17T05:26:45.893Z"
   },
   {
    "duration": 4,
    "start_time": "2022-08-17T05:27:01.958Z"
   },
   {
    "duration": 38,
    "start_time": "2022-08-17T05:27:03.631Z"
   },
   {
    "duration": 3,
    "start_time": "2022-08-17T05:29:12.323Z"
   },
   {
    "duration": 29,
    "start_time": "2022-08-17T05:29:13.506Z"
   },
   {
    "duration": 3,
    "start_time": "2022-08-17T05:30:00.631Z"
   },
   {
    "duration": 34,
    "start_time": "2022-08-17T05:30:01.555Z"
   },
   {
    "duration": 4,
    "start_time": "2022-08-17T05:30:19.198Z"
   },
   {
    "duration": 31,
    "start_time": "2022-08-17T05:30:20.288Z"
   },
   {
    "duration": 33,
    "start_time": "2022-08-17T05:33:36.106Z"
   },
   {
    "duration": 507,
    "start_time": "2022-08-17T05:34:21.077Z"
   },
   {
    "duration": 3,
    "start_time": "2022-08-17T05:34:21.588Z"
   },
   {
    "duration": 6,
    "start_time": "2022-08-17T05:34:21.592Z"
   },
   {
    "duration": 12592,
    "start_time": "2022-08-17T05:34:21.599Z"
   },
   {
    "duration": 2,
    "start_time": "2022-08-17T05:34:34.193Z"
   },
   {
    "duration": 8,
    "start_time": "2022-08-17T05:34:34.197Z"
   },
   {
    "duration": 96,
    "start_time": "2022-08-17T05:34:34.206Z"
   },
   {
    "duration": 16,
    "start_time": "2022-08-17T05:34:34.303Z"
   },
   {
    "duration": 14,
    "start_time": "2022-08-17T05:34:34.320Z"
   },
   {
    "duration": 11,
    "start_time": "2022-08-17T05:34:34.335Z"
   },
   {
    "duration": 2,
    "start_time": "2022-08-17T05:34:34.347Z"
   },
   {
    "duration": 43,
    "start_time": "2022-08-17T05:34:34.350Z"
   },
   {
    "duration": 14,
    "start_time": "2022-08-17T05:34:34.394Z"
   },
   {
    "duration": 9,
    "start_time": "2022-08-17T05:34:34.412Z"
   },
   {
    "duration": 9,
    "start_time": "2022-08-17T05:34:34.423Z"
   },
   {
    "duration": 2,
    "start_time": "2022-08-17T05:34:34.434Z"
   },
   {
    "duration": 12,
    "start_time": "2022-08-17T05:34:34.438Z"
   },
   {
    "duration": 43,
    "start_time": "2022-08-17T05:34:34.452Z"
   },
   {
    "duration": 9,
    "start_time": "2022-08-17T05:34:34.497Z"
   },
   {
    "duration": 9,
    "start_time": "2022-08-17T05:34:34.508Z"
   },
   {
    "duration": 2,
    "start_time": "2022-08-17T05:34:34.519Z"
   },
   {
    "duration": 42,
    "start_time": "2022-08-17T05:34:34.523Z"
   },
   {
    "duration": 41,
    "start_time": "2022-08-17T05:34:34.568Z"
   },
   {
    "duration": 77,
    "start_time": "2022-08-17T05:34:34.612Z"
   },
   {
    "duration": 21,
    "start_time": "2022-08-17T05:34:34.691Z"
   },
   {
    "duration": 2,
    "start_time": "2022-08-17T05:34:34.713Z"
   },
   {
    "duration": 18,
    "start_time": "2022-08-17T05:34:34.717Z"
   },
   {
    "duration": 62,
    "start_time": "2022-08-17T05:34:34.737Z"
   },
   {
    "duration": 17,
    "start_time": "2022-08-17T05:34:34.800Z"
   },
   {
    "duration": 15,
    "start_time": "2022-08-17T05:34:34.819Z"
   },
   {
    "duration": 2,
    "start_time": "2022-08-17T05:34:34.836Z"
   },
   {
    "duration": 12,
    "start_time": "2022-08-17T05:34:34.839Z"
   },
   {
    "duration": 10,
    "start_time": "2022-08-17T05:34:34.852Z"
   },
   {
    "duration": 41,
    "start_time": "2022-08-17T05:34:34.876Z"
   },
   {
    "duration": 2,
    "start_time": "2022-08-17T05:34:34.919Z"
   },
   {
    "duration": 14,
    "start_time": "2022-08-17T05:34:34.922Z"
   },
   {
    "duration": 2,
    "start_time": "2022-08-17T05:34:34.938Z"
   },
   {
    "duration": 23,
    "start_time": "2022-08-17T05:34:34.942Z"
   },
   {
    "duration": 2,
    "start_time": "2022-08-17T05:34:34.966Z"
   },
   {
    "duration": 41,
    "start_time": "2022-08-17T05:34:34.969Z"
   },
   {
    "duration": 52,
    "start_time": "2022-08-17T05:35:59.841Z"
   },
   {
    "duration": 183,
    "start_time": "2022-08-17T05:37:36.197Z"
   },
   {
    "duration": 31,
    "start_time": "2022-08-17T05:58:08.920Z"
   },
   {
    "duration": 510,
    "start_time": "2022-08-17T05:59:14.846Z"
   },
   {
    "duration": 2,
    "start_time": "2022-08-17T05:59:15.358Z"
   },
   {
    "duration": 6,
    "start_time": "2022-08-17T05:59:15.362Z"
   },
   {
    "duration": 8332,
    "start_time": "2022-08-17T05:59:15.369Z"
   },
   {
    "duration": 2,
    "start_time": "2022-08-17T05:59:23.703Z"
   },
   {
    "duration": 6,
    "start_time": "2022-08-17T05:59:23.707Z"
   },
   {
    "duration": 64,
    "start_time": "2022-08-17T05:59:23.714Z"
   },
   {
    "duration": 16,
    "start_time": "2022-08-17T05:59:23.780Z"
   },
   {
    "duration": 13,
    "start_time": "2022-08-17T05:59:23.798Z"
   },
   {
    "duration": 12,
    "start_time": "2022-08-17T05:59:23.813Z"
   },
   {
    "duration": 2,
    "start_time": "2022-08-17T05:59:23.826Z"
   },
   {
    "duration": 14,
    "start_time": "2022-08-17T05:59:23.829Z"
   },
   {
    "duration": 12,
    "start_time": "2022-08-17T05:59:23.855Z"
   },
   {
    "duration": 10,
    "start_time": "2022-08-17T05:59:23.869Z"
   },
   {
    "duration": 8,
    "start_time": "2022-08-17T05:59:23.880Z"
   },
   {
    "duration": 2,
    "start_time": "2022-08-17T05:59:23.890Z"
   },
   {
    "duration": 15,
    "start_time": "2022-08-17T05:59:23.894Z"
   },
   {
    "duration": 12,
    "start_time": "2022-08-17T05:59:23.910Z"
   },
   {
    "duration": 9,
    "start_time": "2022-08-17T05:59:23.923Z"
   },
   {
    "duration": 9,
    "start_time": "2022-08-17T05:59:23.955Z"
   },
   {
    "duration": 2,
    "start_time": "2022-08-17T05:59:23.966Z"
   },
   {
    "duration": 24,
    "start_time": "2022-08-17T05:59:23.970Z"
   },
   {
    "duration": 23,
    "start_time": "2022-08-17T05:59:23.996Z"
   },
   {
    "duration": 75,
    "start_time": "2022-08-17T05:59:24.020Z"
   },
   {
    "duration": 20,
    "start_time": "2022-08-17T05:59:24.097Z"
   },
   {
    "duration": 3,
    "start_time": "2022-08-17T05:59:24.118Z"
   },
   {
    "duration": 20,
    "start_time": "2022-08-17T05:59:24.122Z"
   },
   {
    "duration": 28,
    "start_time": "2022-08-17T05:59:24.145Z"
   },
   {
    "duration": 15,
    "start_time": "2022-08-17T05:59:24.174Z"
   },
   {
    "duration": 15,
    "start_time": "2022-08-17T05:59:24.191Z"
   },
   {
    "duration": 2,
    "start_time": "2022-08-17T05:59:24.207Z"
   },
   {
    "duration": 13,
    "start_time": "2022-08-17T05:59:24.211Z"
   },
   {
    "duration": 2,
    "start_time": "2022-08-17T05:59:24.225Z"
   },
   {
    "duration": 37,
    "start_time": "2022-08-17T05:59:24.228Z"
   },
   {
    "duration": 3,
    "start_time": "2022-08-17T05:59:24.266Z"
   },
   {
    "duration": 16,
    "start_time": "2022-08-17T05:59:24.271Z"
   },
   {
    "duration": 3,
    "start_time": "2022-08-17T05:59:24.289Z"
   },
   {
    "duration": 18,
    "start_time": "2022-08-17T05:59:24.293Z"
   },
   {
    "duration": 2,
    "start_time": "2022-08-17T05:59:24.313Z"
   },
   {
    "duration": 13,
    "start_time": "2022-08-17T05:59:24.317Z"
   },
   {
    "duration": 805,
    "start_time": "2023-02-26T23:18:15.622Z"
   },
   {
    "duration": 8287,
    "start_time": "2023-02-26T23:18:16.429Z"
   },
   {
    "duration": 3,
    "start_time": "2023-02-26T23:18:24.718Z"
   },
   {
    "duration": 7,
    "start_time": "2023-02-26T23:18:24.722Z"
   },
   {
    "duration": 11,
    "start_time": "2023-02-26T23:18:24.731Z"
   },
   {
    "duration": 130,
    "start_time": "2023-02-26T23:18:24.743Z"
   },
   {
    "duration": 2,
    "start_time": "2023-02-26T23:18:24.874Z"
   },
   {
    "duration": 38,
    "start_time": "2023-02-26T23:18:24.878Z"
   },
   {
    "duration": 20,
    "start_time": "2023-02-26T23:18:24.918Z"
   },
   {
    "duration": 36,
    "start_time": "2023-02-26T23:18:24.939Z"
   },
   {
    "duration": 3,
    "start_time": "2023-02-26T23:18:24.976Z"
   },
   {
    "duration": 83,
    "start_time": "2023-02-26T23:18:24.980Z"
   },
   {
    "duration": 2,
    "start_time": "2023-02-26T23:18:25.064Z"
   },
   {
    "duration": 78,
    "start_time": "2023-02-26T23:18:25.070Z"
   },
   {
    "duration": 2,
    "start_time": "2023-02-26T23:18:25.150Z"
   },
   {
    "duration": 14,
    "start_time": "2023-02-26T23:18:25.154Z"
   },
   {
    "duration": 4,
    "start_time": "2023-02-26T23:18:25.170Z"
   },
   {
    "duration": 39,
    "start_time": "2023-02-26T23:18:25.176Z"
   },
   {
    "duration": 39,
    "start_time": "2023-02-26T23:18:25.217Z"
   },
   {
    "duration": 3,
    "start_time": "2023-02-26T23:18:25.258Z"
   },
   {
    "duration": 18,
    "start_time": "2023-02-26T23:18:25.263Z"
   },
   {
    "duration": 18,
    "start_time": "2023-02-26T23:18:25.283Z"
   },
   {
    "duration": 3,
    "start_time": "2023-02-26T23:18:25.303Z"
   },
   {
    "duration": 32,
    "start_time": "2023-02-26T23:18:25.308Z"
   },
   {
    "duration": 3,
    "start_time": "2023-02-26T23:18:25.341Z"
   },
   {
    "duration": 15,
    "start_time": "2023-02-26T23:18:25.345Z"
   }
  ],
  "colab": {
   "collapsed_sections": [
    "E0vqbgi9ay0H",
    "VUC88oWjTJw2"
   ],
   "name": "yandex_music_project_2021.2.ipynb",
   "provenance": []
  },
  "kernelspec": {
   "display_name": "Python 3 (ipykernel)",
   "language": "python",
   "name": "python3"
  },
  "language_info": {
   "codemirror_mode": {
    "name": "ipython",
    "version": 3
   },
   "file_extension": ".py",
   "mimetype": "text/x-python",
   "name": "python",
   "nbconvert_exporter": "python",
   "pygments_lexer": "ipython3",
   "version": "3.9.5"
  },
  "toc": {
   "base_numbering": 1,
   "nav_menu": {},
   "number_sections": true,
   "sideBar": true,
   "skip_h1_title": true,
   "title_cell": "Table of Contents",
   "title_sidebar": "Contents",
   "toc_cell": false,
   "toc_position": {
    "height": "779px",
    "left": "54px",
    "top": "249px",
    "width": "303px"
   },
   "toc_section_display": true,
   "toc_window_display": true
  }
 },
 "nbformat": 4,
 "nbformat_minor": 1
}
